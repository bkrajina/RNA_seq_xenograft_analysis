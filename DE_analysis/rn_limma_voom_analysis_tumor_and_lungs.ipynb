{
 "cells": [
  {
   "cell_type": "code",
   "execution_count": 1,
   "metadata": {},
   "outputs": [
    {
     "name": "stderr",
     "output_type": "stream",
     "text": [
      "\n",
      "Attaching package: ‘dplyr’\n",
      "\n",
      "\n",
      "The following objects are masked from ‘package:data.table’:\n",
      "\n",
      "    between, first, last\n",
      "\n",
      "\n",
      "The following objects are masked from ‘package:stats’:\n",
      "\n",
      "    filter, lag\n",
      "\n",
      "\n",
      "The following objects are masked from ‘package:base’:\n",
      "\n",
      "    intersect, setdiff, setequal, union\n",
      "\n",
      "\n"
     ]
    }
   ],
   "source": [
    "library(data.table)\n",
    "library(limma)\n",
    "library(dplyr)\n",
    "library(edgeR)\n",
    "library(tibble)\n",
    "library(biomaRt)\n",
    "library(tidyr)\n",
    "library(stringr)\n",
    "library(gtools)"
   ]
  },
  {
   "cell_type": "code",
   "execution_count": 2,
   "metadata": {},
   "outputs": [],
   "source": [
    "## Import gene names"
   ]
  },
  {
   "cell_type": "code",
   "execution_count": 3,
   "metadata": {},
   "outputs": [],
   "source": [
    "ensembl = useEnsembl(biomart=\"ensembl\", dataset=\"rnorvegicus_gene_ensembl\", version=100)"
   ]
  },
  {
   "cell_type": "code",
   "execution_count": 4,
   "metadata": {},
   "outputs": [],
   "source": [
    "gene_annot <- getBM(mart=ensembl, attributes=c('ensembl_gene_id', 'external_gene_name'))"
   ]
  },
  {
   "cell_type": "code",
   "execution_count": 5,
   "metadata": {},
   "outputs": [],
   "source": [
    "base_dir <- \"../../\"\n",
    "species <- 'rn'\n",
    "save_dir <- file.path(base_dir, 'DE_and_abundance', '2022_03_18_analysis', 'tumor_and_lungs')\n",
    "meta_path <- file.path(base_dir, \"tumor_region_metadata.csv\")\n",
    "counts_path <- file.path(base_dir, \"feature_counts\", paste0(\"tumor_trimmed_gene_counts_\", species, '.csv'))\n",
    "annot_path <- file.path(base_dir, \"feature_counts\", paste0(\"tumor_trimmed_FC_gene_annot_\", species, '.csv'))"
   ]
  },
  {
   "cell_type": "code",
   "execution_count": 6,
   "metadata": {},
   "outputs": [],
   "source": [
    "FC_annot <- read.csv(annot_path, row.names=1)\n",
    "## Select only gene id and length. Note that dplyr will drop row names upon select\n",
    "## but edgeR expects gene id in row names, so convert gene_id to column, then back, \n",
    "## to row names after selecting\n",
    "FC_annot <- rownames_to_column(FC_annot, var='gene_id')\n",
    "FC_annot <- dplyr::select(FC_annot, 'gene_id', 'Length')\n",
    "FC_annot <- column_to_rownames(FC_annot, var='gene_id')"
   ]
  },
  {
   "cell_type": "code",
   "execution_count": 7,
   "metadata": {},
   "outputs": [],
   "source": [
    "meta <- read.csv(meta_path)"
   ]
  },
  {
   "cell_type": "code",
   "execution_count": 8,
   "metadata": {},
   "outputs": [],
   "source": [
    "counts <- read.csv(counts_path, row.names=1)"
   ]
  },
  {
   "cell_type": "code",
   "execution_count": 9,
   "metadata": {},
   "outputs": [],
   "source": [
    "## Change meta sample names to be acceptable variable names"
   ]
  },
  {
   "cell_type": "code",
   "execution_count": 10,
   "metadata": {},
   "outputs": [],
   "source": [
    "meta$Sample <- paste0('X', meta$Sample)\n",
    "meta$Sample <- gsub('-', '.', meta$Sample)\n",
    "meta$RatID <- factor(meta$RatID)"
   ]
  },
  {
   "cell_type": "code",
   "execution_count": 11,
   "metadata": {},
   "outputs": [],
   "source": [
    "## Take counts in the filtered sample list "
   ]
  },
  {
   "cell_type": "code",
   "execution_count": 12,
   "metadata": {},
   "outputs": [],
   "source": [
    "counts <- dplyr::select(counts, meta$Sample)"
   ]
  },
  {
   "cell_type": "code",
   "execution_count": 13,
   "metadata": {},
   "outputs": [],
   "source": [
    "## Get differential gene expression list for use in limma"
   ]
  },
  {
   "cell_type": "code",
   "execution_count": 14,
   "metadata": {},
   "outputs": [],
   "source": [
    "y <- DGEList(counts, genes=FC_annot)"
   ]
  },
  {
   "cell_type": "code",
   "execution_count": 15,
   "metadata": {},
   "outputs": [],
   "source": [
    "## Define the linear model and get the design matrix"
   ]
  },
  {
   "cell_type": "code",
   "execution_count": 16,
   "metadata": {},
   "outputs": [],
   "source": [
    "design <- model.matrix(~ 0 + Region + RatID, data=meta)"
   ]
  },
  {
   "cell_type": "code",
   "execution_count": 17,
   "metadata": {},
   "outputs": [],
   "source": [
    "## Filter the data to remove low expressed genes"
   ]
  },
  {
   "cell_type": "code",
   "execution_count": 18,
   "metadata": {},
   "outputs": [],
   "source": [
    "keep <- filterByExpr(y, design, min.count=10, min.total.count=15)\n",
    "y <- y[keep, keep.lib.sizes=FALSE]"
   ]
  },
  {
   "cell_type": "code",
   "execution_count": 19,
   "metadata": {},
   "outputs": [],
   "source": [
    "## Calculate library normalization factors "
   ]
  },
  {
   "cell_type": "code",
   "execution_count": 20,
   "metadata": {},
   "outputs": [],
   "source": [
    "y <- calcNormFactors(y)"
   ]
  },
  {
   "cell_type": "code",
   "execution_count": 21,
   "metadata": {},
   "outputs": [
    {
     "data": {
      "text/html": [
       "<table class=\"dataframe\">\n",
       "<caption>A data.frame: 15 × 3</caption>\n",
       "<thead>\n",
       "\t<tr><th></th><th scope=col>group</th><th scope=col>lib.size</th><th scope=col>norm.factors</th></tr>\n",
       "\t<tr><th></th><th scope=col>&lt;fct&gt;</th><th scope=col>&lt;dbl&gt;</th><th scope=col>&lt;dbl&gt;</th></tr>\n",
       "</thead>\n",
       "<tbody>\n",
       "\t<tr><th scope=row>X3869out</th><td>1</td><td> 5260576</td><td>0.9604118</td></tr>\n",
       "\t<tr><th scope=row>X3877in</th><td>1</td><td> 3966109</td><td>0.9996037</td></tr>\n",
       "\t<tr><th scope=row>X3875out</th><td>1</td><td> 4900651</td><td>0.9168090</td></tr>\n",
       "\t<tr><th scope=row>X3876lung</th><td>1</td><td> 8511553</td><td>1.0918005</td></tr>\n",
       "\t<tr><th scope=row>X3867out</th><td>1</td><td> 5184313</td><td>0.9580453</td></tr>\n",
       "\t<tr><th scope=row>X3869in</th><td>1</td><td> 3436848</td><td>0.9233178</td></tr>\n",
       "\t<tr><th scope=row>X3875lung</th><td>1</td><td>10015352</td><td>1.0758364</td></tr>\n",
       "\t<tr><th scope=row>X3869lung</th><td>1</td><td> 6976025</td><td>1.0663542</td></tr>\n",
       "\t<tr><th scope=row>X3877out</th><td>1</td><td> 5138129</td><td>0.9996424</td></tr>\n",
       "\t<tr><th scope=row>X3876out</th><td>1</td><td> 9183248</td><td>1.0003865</td></tr>\n",
       "\t<tr><th scope=row>X3789lung</th><td>1</td><td> 8923328</td><td>0.9852096</td></tr>\n",
       "\t<tr><th scope=row>X3867in</th><td>1</td><td> 4221679</td><td>0.9753650</td></tr>\n",
       "\t<tr><th scope=row>X3876in</th><td>1</td><td> 3146720</td><td>1.0286841</td></tr>\n",
       "\t<tr><th scope=row>X3877lung</th><td>1</td><td> 8631904</td><td>1.0703324</td></tr>\n",
       "\t<tr><th scope=row>X3875in</th><td>1</td><td> 3245004</td><td>0.9691668</td></tr>\n",
       "</tbody>\n",
       "</table>\n"
      ],
      "text/latex": [
       "A data.frame: 15 × 3\n",
       "\\begin{tabular}{r|lll}\n",
       "  & group & lib.size & norm.factors\\\\\n",
       "  & <fct> & <dbl> & <dbl>\\\\\n",
       "\\hline\n",
       "\tX3869out & 1 &  5260576 & 0.9604118\\\\\n",
       "\tX3877in & 1 &  3966109 & 0.9996037\\\\\n",
       "\tX3875out & 1 &  4900651 & 0.9168090\\\\\n",
       "\tX3876lung & 1 &  8511553 & 1.0918005\\\\\n",
       "\tX3867out & 1 &  5184313 & 0.9580453\\\\\n",
       "\tX3869in & 1 &  3436848 & 0.9233178\\\\\n",
       "\tX3875lung & 1 & 10015352 & 1.0758364\\\\\n",
       "\tX3869lung & 1 &  6976025 & 1.0663542\\\\\n",
       "\tX3877out & 1 &  5138129 & 0.9996424\\\\\n",
       "\tX3876out & 1 &  9183248 & 1.0003865\\\\\n",
       "\tX3789lung & 1 &  8923328 & 0.9852096\\\\\n",
       "\tX3867in & 1 &  4221679 & 0.9753650\\\\\n",
       "\tX3876in & 1 &  3146720 & 1.0286841\\\\\n",
       "\tX3877lung & 1 &  8631904 & 1.0703324\\\\\n",
       "\tX3875in & 1 &  3245004 & 0.9691668\\\\\n",
       "\\end{tabular}\n"
      ],
      "text/markdown": [
       "\n",
       "A data.frame: 15 × 3\n",
       "\n",
       "| <!--/--> | group &lt;fct&gt; | lib.size &lt;dbl&gt; | norm.factors &lt;dbl&gt; |\n",
       "|---|---|---|---|\n",
       "| X3869out | 1 |  5260576 | 0.9604118 |\n",
       "| X3877in | 1 |  3966109 | 0.9996037 |\n",
       "| X3875out | 1 |  4900651 | 0.9168090 |\n",
       "| X3876lung | 1 |  8511553 | 1.0918005 |\n",
       "| X3867out | 1 |  5184313 | 0.9580453 |\n",
       "| X3869in | 1 |  3436848 | 0.9233178 |\n",
       "| X3875lung | 1 | 10015352 | 1.0758364 |\n",
       "| X3869lung | 1 |  6976025 | 1.0663542 |\n",
       "| X3877out | 1 |  5138129 | 0.9996424 |\n",
       "| X3876out | 1 |  9183248 | 1.0003865 |\n",
       "| X3789lung | 1 |  8923328 | 0.9852096 |\n",
       "| X3867in | 1 |  4221679 | 0.9753650 |\n",
       "| X3876in | 1 |  3146720 | 1.0286841 |\n",
       "| X3877lung | 1 |  8631904 | 1.0703324 |\n",
       "| X3875in | 1 |  3245004 | 0.9691668 |\n",
       "\n"
      ],
      "text/plain": [
       "          group lib.size norm.factors\n",
       "X3869out  1      5260576 0.9604118   \n",
       "X3877in   1      3966109 0.9996037   \n",
       "X3875out  1      4900651 0.9168090   \n",
       "X3876lung 1      8511553 1.0918005   \n",
       "X3867out  1      5184313 0.9580453   \n",
       "X3869in   1      3436848 0.9233178   \n",
       "X3875lung 1     10015352 1.0758364   \n",
       "X3869lung 1      6976025 1.0663542   \n",
       "X3877out  1      5138129 0.9996424   \n",
       "X3876out  1      9183248 1.0003865   \n",
       "X3789lung 1      8923328 0.9852096   \n",
       "X3867in   1      4221679 0.9753650   \n",
       "X3876in   1      3146720 1.0286841   \n",
       "X3877lung 1      8631904 1.0703324   \n",
       "X3875in   1      3245004 0.9691668   "
      ]
     },
     "metadata": {},
     "output_type": "display_data"
    }
   ],
   "source": [
    "y$samples"
   ]
  },
  {
   "cell_type": "code",
   "execution_count": 22,
   "metadata": {},
   "outputs": [
    {
     "data": {
      "image/png": "[encoded data removed]",
      "text/plain": [
       "Plot with title “voom: Mean-variance trend”"
      ]
     },
     "metadata": {
      "image/png": {
       "height": 420,
       "width": 420
      }
     },
     "output_type": "display_data"
    }
   ],
   "source": [
    "v <- voom(y,design, plot=TRUE)"
   ]
  },
  {
   "cell_type": "code",
   "execution_count": 23,
   "metadata": {},
   "outputs": [],
   "source": [
    "## Fit the linear model and perform empirical Bayes smoothing"
   ]
  },
  {
   "cell_type": "code",
   "execution_count": 24,
   "metadata": {},
   "outputs": [],
   "source": [
    "fit <- lmFit(v,design)\n",
    "fit <- eBayes(fit)"
   ]
  },
  {
   "cell_type": "code",
   "execution_count": 25,
   "metadata": {},
   "outputs": [],
   "source": [
    "## Get contrasts for pair-wise comparisons\n",
    "contr <- c('Regionin-Regionlung', 'Regionin-Regionout', 'Regionout-Regionlung')\n",
    "contrast.matrix <- makeContrasts(contrasts=contr, levels=design)"
   ]
  },
  {
   "cell_type": "code",
   "execution_count": 26,
   "metadata": {},
   "outputs": [
    {
     "data": {
      "text/html": [
       "<table class=\"dataframe\">\n",
       "<caption>A matrix: 15 × 8 of type dbl</caption>\n",
       "<thead>\n",
       "\t<tr><th></th><th scope=col>Regionin</th><th scope=col>Regionlung</th><th scope=col>Regionout</th><th scope=col>RatID3867</th><th scope=col>RatID3869</th><th scope=col>RatID3875</th><th scope=col>RatID3876</th><th scope=col>RatID3877</th></tr>\n",
       "</thead>\n",
       "<tbody>\n",
       "\t<tr><th scope=row>1</th><td>0</td><td>0</td><td>1</td><td>0</td><td>1</td><td>0</td><td>0</td><td>0</td></tr>\n",
       "\t<tr><th scope=row>2</th><td>1</td><td>0</td><td>0</td><td>0</td><td>0</td><td>0</td><td>0</td><td>1</td></tr>\n",
       "\t<tr><th scope=row>3</th><td>0</td><td>0</td><td>1</td><td>0</td><td>0</td><td>1</td><td>0</td><td>0</td></tr>\n",
       "\t<tr><th scope=row>4</th><td>0</td><td>1</td><td>0</td><td>0</td><td>0</td><td>0</td><td>1</td><td>0</td></tr>\n",
       "\t<tr><th scope=row>5</th><td>0</td><td>0</td><td>1</td><td>1</td><td>0</td><td>0</td><td>0</td><td>0</td></tr>\n",
       "\t<tr><th scope=row>6</th><td>1</td><td>0</td><td>0</td><td>0</td><td>1</td><td>0</td><td>0</td><td>0</td></tr>\n",
       "\t<tr><th scope=row>7</th><td>0</td><td>1</td><td>0</td><td>0</td><td>0</td><td>1</td><td>0</td><td>0</td></tr>\n",
       "\t<tr><th scope=row>8</th><td>0</td><td>1</td><td>0</td><td>0</td><td>1</td><td>0</td><td>0</td><td>0</td></tr>\n",
       "\t<tr><th scope=row>9</th><td>0</td><td>0</td><td>1</td><td>0</td><td>0</td><td>0</td><td>0</td><td>1</td></tr>\n",
       "\t<tr><th scope=row>10</th><td>0</td><td>0</td><td>1</td><td>0</td><td>0</td><td>0</td><td>1</td><td>0</td></tr>\n",
       "\t<tr><th scope=row>11</th><td>0</td><td>1</td><td>0</td><td>0</td><td>0</td><td>0</td><td>0</td><td>0</td></tr>\n",
       "\t<tr><th scope=row>12</th><td>1</td><td>0</td><td>0</td><td>1</td><td>0</td><td>0</td><td>0</td><td>0</td></tr>\n",
       "\t<tr><th scope=row>13</th><td>1</td><td>0</td><td>0</td><td>0</td><td>0</td><td>0</td><td>1</td><td>0</td></tr>\n",
       "\t<tr><th scope=row>14</th><td>0</td><td>1</td><td>0</td><td>0</td><td>0</td><td>0</td><td>0</td><td>1</td></tr>\n",
       "\t<tr><th scope=row>15</th><td>1</td><td>0</td><td>0</td><td>0</td><td>0</td><td>1</td><td>0</td><td>0</td></tr>\n",
       "</tbody>\n",
       "</table>\n"
      ],
      "text/latex": [
       "A matrix: 15 × 8 of type dbl\n",
       "\\begin{tabular}{r|llllllll}\n",
       "  & Regionin & Regionlung & Regionout & RatID3867 & RatID3869 & RatID3875 & RatID3876 & RatID3877\\\\\n",
       "\\hline\n",
       "\t1 & 0 & 0 & 1 & 0 & 1 & 0 & 0 & 0\\\\\n",
       "\t2 & 1 & 0 & 0 & 0 & 0 & 0 & 0 & 1\\\\\n",
       "\t3 & 0 & 0 & 1 & 0 & 0 & 1 & 0 & 0\\\\\n",
       "\t4 & 0 & 1 & 0 & 0 & 0 & 0 & 1 & 0\\\\\n",
       "\t5 & 0 & 0 & 1 & 1 & 0 & 0 & 0 & 0\\\\\n",
       "\t6 & 1 & 0 & 0 & 0 & 1 & 0 & 0 & 0\\\\\n",
       "\t7 & 0 & 1 & 0 & 0 & 0 & 1 & 0 & 0\\\\\n",
       "\t8 & 0 & 1 & 0 & 0 & 1 & 0 & 0 & 0\\\\\n",
       "\t9 & 0 & 0 & 1 & 0 & 0 & 0 & 0 & 1\\\\\n",
       "\t10 & 0 & 0 & 1 & 0 & 0 & 0 & 1 & 0\\\\\n",
       "\t11 & 0 & 1 & 0 & 0 & 0 & 0 & 0 & 0\\\\\n",
       "\t12 & 1 & 0 & 0 & 1 & 0 & 0 & 0 & 0\\\\\n",
       "\t13 & 1 & 0 & 0 & 0 & 0 & 0 & 1 & 0\\\\\n",
       "\t14 & 0 & 1 & 0 & 0 & 0 & 0 & 0 & 1\\\\\n",
       "\t15 & 1 & 0 & 0 & 0 & 0 & 1 & 0 & 0\\\\\n",
       "\\end{tabular}\n"
      ],
      "text/markdown": [
       "\n",
       "A matrix: 15 × 8 of type dbl\n",
       "\n",
       "| <!--/--> | Regionin | Regionlung | Regionout | RatID3867 | RatID3869 | RatID3875 | RatID3876 | RatID3877 |\n",
       "|---|---|---|---|---|---|---|---|---|\n",
       "| 1 | 0 | 0 | 1 | 0 | 1 | 0 | 0 | 0 |\n",
       "| 2 | 1 | 0 | 0 | 0 | 0 | 0 | 0 | 1 |\n",
       "| 3 | 0 | 0 | 1 | 0 | 0 | 1 | 0 | 0 |\n",
       "| 4 | 0 | 1 | 0 | 0 | 0 | 0 | 1 | 0 |\n",
       "| 5 | 0 | 0 | 1 | 1 | 0 | 0 | 0 | 0 |\n",
       "| 6 | 1 | 0 | 0 | 0 | 1 | 0 | 0 | 0 |\n",
       "| 7 | 0 | 1 | 0 | 0 | 0 | 1 | 0 | 0 |\n",
       "| 8 | 0 | 1 | 0 | 0 | 1 | 0 | 0 | 0 |\n",
       "| 9 | 0 | 0 | 1 | 0 | 0 | 0 | 0 | 1 |\n",
       "| 10 | 0 | 0 | 1 | 0 | 0 | 0 | 1 | 0 |\n",
       "| 11 | 0 | 1 | 0 | 0 | 0 | 0 | 0 | 0 |\n",
       "| 12 | 1 | 0 | 0 | 1 | 0 | 0 | 0 | 0 |\n",
       "| 13 | 1 | 0 | 0 | 0 | 0 | 0 | 1 | 0 |\n",
       "| 14 | 0 | 1 | 0 | 0 | 0 | 0 | 0 | 1 |\n",
       "| 15 | 1 | 0 | 0 | 0 | 0 | 1 | 0 | 0 |\n",
       "\n"
      ],
      "text/plain": [
       "   Regionin Regionlung Regionout RatID3867 RatID3869 RatID3875 RatID3876\n",
       "1  0        0          1         0         1         0         0        \n",
       "2  1        0          0         0         0         0         0        \n",
       "3  0        0          1         0         0         1         0        \n",
       "4  0        1          0         0         0         0         1        \n",
       "5  0        0          1         1         0         0         0        \n",
       "6  1        0          0         0         1         0         0        \n",
       "7  0        1          0         0         0         1         0        \n",
       "8  0        1          0         0         1         0         0        \n",
       "9  0        0          1         0         0         0         0        \n",
       "10 0        0          1         0         0         0         1        \n",
       "11 0        1          0         0         0         0         0        \n",
       "12 1        0          0         1         0         0         0        \n",
       "13 1        0          0         0         0         0         1        \n",
       "14 0        1          0         0         0         0         0        \n",
       "15 1        0          0         0         0         1         0        \n",
       "   RatID3877\n",
       "1  0        \n",
       "2  1        \n",
       "3  0        \n",
       "4  0        \n",
       "5  0        \n",
       "6  0        \n",
       "7  0        \n",
       "8  0        \n",
       "9  1        \n",
       "10 0        \n",
       "11 0        \n",
       "12 0        \n",
       "13 0        \n",
       "14 1        \n",
       "15 0        "
      ]
     },
     "metadata": {},
     "output_type": "display_data"
    }
   ],
   "source": [
    "design"
   ]
  },
  {
   "cell_type": "code",
   "execution_count": 27,
   "metadata": {},
   "outputs": [],
   "source": [
    "## Fit coefficients for contrasts"
   ]
  },
  {
   "cell_type": "code",
   "execution_count": 28,
   "metadata": {},
   "outputs": [],
   "source": [
    "fit2 <- contrasts.fit(fit, contrast.matrix)\n",
    "fit2 <- eBayes(fit2)"
   ]
  },
  {
   "cell_type": "code",
   "execution_count": 29,
   "metadata": {},
   "outputs": [],
   "source": [
    "## Get abundance from log-transformed CPM"
   ]
  },
  {
   "cell_type": "code",
   "execution_count": 30,
   "metadata": {},
   "outputs": [],
   "source": [
    "voom_counts <- as.data.frame(v$E)\n",
    "abundance <- 2.**(data.table::copy(voom_counts))\n",
    "abundance <- dplyr::select(abundance,mixedorder(colnames(abundance)))\n",
    "abundance <- rownames_to_column(abundance, var='ensembl_gene_id')"
   ]
  },
  {
   "cell_type": "code",
   "execution_count": 31,
   "metadata": {},
   "outputs": [],
   "source": [
    "## Get RPKM and convert to TPM"
   ]
  },
  {
   "cell_type": "code",
   "execution_count": 32,
   "metadata": {},
   "outputs": [],
   "source": [
    "RPKM <- as.data.frame(data.table::copy(rpkm(y)))\n",
    "TPM <- sweep(RPKM, 2, colSums(RPKM), '/')*(1.e6)\n",
    "TPM <- dplyr::select(TPM,mixedorder(colnames(TPM)))\n",
    "TPM <- rownames_to_column(TPM, var='ensembl_gene_id')"
   ]
  },
  {
   "cell_type": "code",
   "execution_count": 33,
   "metadata": {},
   "outputs": [],
   "source": [
    "## Get top table with logFC and FDR"
   ]
  },
  {
   "cell_type": "code",
   "execution_count": 34,
   "metadata": {},
   "outputs": [
    {
     "data": {
      "text/html": [
       "<table class=\"dataframe\">\n",
       "<caption>A data.frame: 6 × 9</caption>\n",
       "<thead>\n",
       "\t<tr><th></th><th scope=col>Length</th><th scope=col>logFC</th><th scope=col>CI.L</th><th scope=col>CI.R</th><th scope=col>AveExpr</th><th scope=col>t</th><th scope=col>P.Value</th><th scope=col>adj.P.Val</th><th scope=col>B</th></tr>\n",
       "\t<tr><th></th><th scope=col>&lt;int&gt;</th><th scope=col>&lt;dbl&gt;</th><th scope=col>&lt;dbl&gt;</th><th scope=col>&lt;dbl&gt;</th><th scope=col>&lt;dbl&gt;</th><th scope=col>&lt;dbl&gt;</th><th scope=col>&lt;dbl&gt;</th><th scope=col>&lt;dbl&gt;</th><th scope=col>&lt;dbl&gt;</th></tr>\n",
       "</thead>\n",
       "<tbody>\n",
       "\t<tr><th scope=row>ENSRNOG00000007916</th><td>3635</td><td>-1.729024</td><td>-1.896869</td><td>-1.561179</td><td>5.717021</td><td>-22.55955</td><td>7.299565e-11</td><td>5.617772e-07</td><td>15.52222</td></tr>\n",
       "\t<tr><th scope=row>ENSRNOG00000004290</th><td>5221</td><td>-2.716006</td><td>-2.980463</td><td>-2.451549</td><td>5.804994</td><td>-22.49119</td><td>7.552799e-11</td><td>5.617772e-07</td><td>15.48177</td></tr>\n",
       "\t<tr><th scope=row>ENSRNOG00000007518</th><td>3282</td><td>-1.626159</td><td>-1.795724</td><td>-1.456595</td><td>6.648315</td><td>-21.00220</td><td>1.628930e-10</td><td>6.622347e-07</td><td>14.75723</td></tr>\n",
       "\t<tr><th scope=row>ENSRNOG00000021856</th><td> 655</td><td> 1.712868</td><td> 1.532264</td><td> 1.893472</td><td>5.574644</td><td> 20.76987</td><td>1.845074e-10</td><td>6.622347e-07</td><td>14.63109</td></tr>\n",
       "\t<tr><th scope=row>ENSRNOG00000017606</th><td>2521</td><td> 1.775353</td><td> 1.584434</td><td> 1.966272</td><td>4.978050</td><td> 20.36443</td><td>2.300584e-10</td><td>6.622347e-07</td><td>14.38819</td></tr>\n",
       "\t<tr><th scope=row>ENSRNOG00000014170</th><td>2898</td><td>-1.644903</td><td>-1.828274</td><td>-1.461532</td><td>6.137255</td><td>-19.64474</td><td>3.439427e-10</td><td>6.622347e-07</td><td>14.01378</td></tr>\n",
       "</tbody>\n",
       "</table>\n"
      ],
      "text/latex": [
       "A data.frame: 6 × 9\n",
       "\\begin{tabular}{r|lllllllll}\n",
       "  & Length & logFC & CI.L & CI.R & AveExpr & t & P.Value & adj.P.Val & B\\\\\n",
       "  & <int> & <dbl> & <dbl> & <dbl> & <dbl> & <dbl> & <dbl> & <dbl> & <dbl>\\\\\n",
       "\\hline\n",
       "\tENSRNOG00000007916 & 3635 & -1.729024 & -1.896869 & -1.561179 & 5.717021 & -22.55955 & 7.299565e-11 & 5.617772e-07 & 15.52222\\\\\n",
       "\tENSRNOG00000004290 & 5221 & -2.716006 & -2.980463 & -2.451549 & 5.804994 & -22.49119 & 7.552799e-11 & 5.617772e-07 & 15.48177\\\\\n",
       "\tENSRNOG00000007518 & 3282 & -1.626159 & -1.795724 & -1.456595 & 6.648315 & -21.00220 & 1.628930e-10 & 6.622347e-07 & 14.75723\\\\\n",
       "\tENSRNOG00000021856 &  655 &  1.712868 &  1.532264 &  1.893472 & 5.574644 &  20.76987 & 1.845074e-10 & 6.622347e-07 & 14.63109\\\\\n",
       "\tENSRNOG00000017606 & 2521 &  1.775353 &  1.584434 &  1.966272 & 4.978050 &  20.36443 & 2.300584e-10 & 6.622347e-07 & 14.38819\\\\\n",
       "\tENSRNOG00000014170 & 2898 & -1.644903 & -1.828274 & -1.461532 & 6.137255 & -19.64474 & 3.439427e-10 & 6.622347e-07 & 14.01378\\\\\n",
       "\\end{tabular}\n"
      ],
      "text/markdown": [
       "\n",
       "A data.frame: 6 × 9\n",
       "\n",
       "| <!--/--> | Length &lt;int&gt; | logFC &lt;dbl&gt; | CI.L &lt;dbl&gt; | CI.R &lt;dbl&gt; | AveExpr &lt;dbl&gt; | t &lt;dbl&gt; | P.Value &lt;dbl&gt; | adj.P.Val &lt;dbl&gt; | B &lt;dbl&gt; |\n",
       "|---|---|---|---|---|---|---|---|---|---|\n",
       "| ENSRNOG00000007916 | 3635 | -1.729024 | -1.896869 | -1.561179 | 5.717021 | -22.55955 | 7.299565e-11 | 5.617772e-07 | 15.52222 |\n",
       "| ENSRNOG00000004290 | 5221 | -2.716006 | -2.980463 | -2.451549 | 5.804994 | -22.49119 | 7.552799e-11 | 5.617772e-07 | 15.48177 |\n",
       "| ENSRNOG00000007518 | 3282 | -1.626159 | -1.795724 | -1.456595 | 6.648315 | -21.00220 | 1.628930e-10 | 6.622347e-07 | 14.75723 |\n",
       "| ENSRNOG00000021856 |  655 |  1.712868 |  1.532264 |  1.893472 | 5.574644 |  20.76987 | 1.845074e-10 | 6.622347e-07 | 14.63109 |\n",
       "| ENSRNOG00000017606 | 2521 |  1.775353 |  1.584434 |  1.966272 | 4.978050 |  20.36443 | 2.300584e-10 | 6.622347e-07 | 14.38819 |\n",
       "| ENSRNOG00000014170 | 2898 | -1.644903 | -1.828274 | -1.461532 | 6.137255 | -19.64474 | 3.439427e-10 | 6.622347e-07 | 14.01378 |\n",
       "\n"
      ],
      "text/plain": [
       "                   Length logFC     CI.L      CI.R      AveExpr  t        \n",
       "ENSRNOG00000007916 3635   -1.729024 -1.896869 -1.561179 5.717021 -22.55955\n",
       "ENSRNOG00000004290 5221   -2.716006 -2.980463 -2.451549 5.804994 -22.49119\n",
       "ENSRNOG00000007518 3282   -1.626159 -1.795724 -1.456595 6.648315 -21.00220\n",
       "ENSRNOG00000021856  655    1.712868  1.532264  1.893472 5.574644  20.76987\n",
       "ENSRNOG00000017606 2521    1.775353  1.584434  1.966272 4.978050  20.36443\n",
       "ENSRNOG00000014170 2898   -1.644903 -1.828274 -1.461532 6.137255 -19.64474\n",
       "                   P.Value      adj.P.Val    B       \n",
       "ENSRNOG00000007916 7.299565e-11 5.617772e-07 15.52222\n",
       "ENSRNOG00000004290 7.552799e-11 5.617772e-07 15.48177\n",
       "ENSRNOG00000007518 1.628930e-10 6.622347e-07 14.75723\n",
       "ENSRNOG00000021856 1.845074e-10 6.622347e-07 14.63109\n",
       "ENSRNOG00000017606 2.300584e-10 6.622347e-07 14.38819\n",
       "ENSRNOG00000014170 3.439427e-10 6.622347e-07 14.01378"
      ]
     },
     "metadata": {},
     "output_type": "display_data"
    }
   ],
   "source": [
    "top_table <- topTable(fit2, coef='Regionin-Regionout', number=Inf, sort.by=\"P\", confint=TRUE)\n",
    "head(top_table)"
   ]
  },
  {
   "cell_type": "code",
   "execution_count": 35,
   "metadata": {},
   "outputs": [],
   "source": [
    "for (contrast in contr){\n",
    "    top_table <- topTable(fit2, coef=contrast, number=Inf, sort.by=\"t\", confint=TRUE)\n",
    "    top_table <- rownames_to_column(top_table, var='ensembl_gene_id')\n",
    "    top_table <- left_join(top_table, gene_annot, by='ensembl_gene_id')\n",
    "    top_table <- dplyr::select(top_table, ensembl_gene_id, external_gene_name, everything())\n",
    "    \n",
    "    top_table_with_abundance <- left_join(top_table, abundance, by='ensembl_gene_id')\n",
    "    top_table_with_TPM <- left_join(top_table, TPM, by='ensembl_gene_id')\n",
    "    contrast_label <- str_remove_all(contrast, 'Region')\n",
    "    \n",
    "     # Save top table with CPM abundance\n",
    "    filename <- paste0('toptable_and_CPM_', species, '_', contrast_label, '.csv')\n",
    "    savepath <- file.path(save_dir, 'top_tables_with_CPM_abundance', filename)\n",
    "    write.csv(top_table_with_abundance, savepath, row.names=FALSE)\n",
    "    \n",
    "    # Save top table with TPM abundance\n",
    "    filename <- paste0('toptable_and_TPM_', species, '_', contrast_label, '.csv')\n",
    "    savepath <- file.path(save_dir, 'top_tables_with_TPM_abundance', filename)\n",
    "    write.csv(top_table_with_TPM, savepath, row.names=FALSE)\n",
    "    \n",
    "    # save top table with no abundance\n",
    "    filename <- paste0('toptable_',species,'_', contrast, '.csv')\n",
    "    savepath <- file.path(save_dir, 'top_tables', filename)\n",
    "    write.csv(top_table, savepath, row.names=FALSE)\n",
    "}"
   ]
  },
  {
   "cell_type": "code",
   "execution_count": 36,
   "metadata": {},
   "outputs": [
    {
     "data": {
      "text/html": [
       "<table class=\"dataframe\">\n",
       "<caption>A data.frame: 6 × 26</caption>\n",
       "<thead>\n",
       "\t<tr><th></th><th scope=col>ensembl_gene_id</th><th scope=col>external_gene_name</th><th scope=col>Length</th><th scope=col>logFC</th><th scope=col>CI.L</th><th scope=col>CI.R</th><th scope=col>AveExpr</th><th scope=col>t</th><th scope=col>P.Value</th><th scope=col>adj.P.Val</th><th scope=col>⋯</th><th scope=col>X3869out</th><th scope=col>X3875in</th><th scope=col>X3875lung</th><th scope=col>X3875out</th><th scope=col>X3876in</th><th scope=col>X3876lung</th><th scope=col>X3876out</th><th scope=col>X3877in</th><th scope=col>X3877lung</th><th scope=col>X3877out</th></tr>\n",
       "\t<tr><th></th><th scope=col>&lt;chr&gt;</th><th scope=col>&lt;chr&gt;</th><th scope=col>&lt;int&gt;</th><th scope=col>&lt;dbl&gt;</th><th scope=col>&lt;dbl&gt;</th><th scope=col>&lt;dbl&gt;</th><th scope=col>&lt;dbl&gt;</th><th scope=col>&lt;dbl&gt;</th><th scope=col>&lt;dbl&gt;</th><th scope=col>&lt;dbl&gt;</th><th scope=col>⋯</th><th scope=col>&lt;dbl&gt;</th><th scope=col>&lt;dbl&gt;</th><th scope=col>&lt;dbl&gt;</th><th scope=col>&lt;dbl&gt;</th><th scope=col>&lt;dbl&gt;</th><th scope=col>&lt;dbl&gt;</th><th scope=col>&lt;dbl&gt;</th><th scope=col>&lt;dbl&gt;</th><th scope=col>&lt;dbl&gt;</th><th scope=col>&lt;dbl&gt;</th></tr>\n",
       "</thead>\n",
       "<tbody>\n",
       "\t<tr><th scope=row>1</th><td>ENSRNOG00000014851</td><td>Col4a4 </td><td>10929</td><td>-4.598349</td><td>-4.872898</td><td>-4.323800</td><td>4.835078</td><td>-36.67915</td><td>2.973766e-13</td><td>4.423774e-09</td><td>⋯</td><td>   6.432688</td><td>  9.062144</td><td>296.847821</td><td>  17.916912</td><td> 10.658076</td><td>249.598652</td><td>  11.04846</td><td> 10.720037</td><td>393.169926</td><td>  14.894012</td></tr>\n",
       "\t<tr><th scope=row>2</th><td>ENSRNOG00000014170</td><td>Dbn1   </td><td> 2898</td><td> 2.778001</td><td> 2.582172</td><td> 2.973830</td><td>6.137255</td><td> 31.06648</td><td>1.964046e-12</td><td>1.460857e-08</td><td>⋯</td><td> 229.894373</td><td> 67.886586</td><td> 26.404003</td><td> 197.753743</td><td> 50.818943</td><td> 26.310356</td><td> 160.61091</td><td> 49.816644</td><td> 19.212020</td><td> 147.674612</td></tr>\n",
       "\t<tr><th scope=row>3</th><td>ENSRNOG00000008412</td><td>Gprc5a </td><td> 2092</td><td>-5.329575</td><td>-5.723396</td><td>-4.935754</td><td>3.883093</td><td>-29.63675</td><td>3.351435e-12</td><td>1.661865e-08</td><td>⋯</td><td>   6.432688</td><td>  4.928534</td><td>201.255120</td><td>   6.120684</td><td>  4.479481</td><td>257.023661</td><td>   6.15013</td><td>  4.414133</td><td>278.330754</td><td>   4.769978</td></tr>\n",
       "\t<tr><th scope=row>4</th><td>ENSRNOG00000004554</td><td>Dcn    </td><td> 1862</td><td> 4.989053</td><td> 4.590904</td><td> 5.387201</td><td>9.020359</td><td> 27.44165</td><td>8.011594e-12</td><td>2.979512e-08</td><td>⋯</td><td>1715.944266</td><td>678.070939</td><td> 87.471962</td><td>3499.362101</td><td>618.631813</td><td> 66.663662</td><td>2142.47661</td><td>470.798817</td><td> 66.078524</td><td>1851.822115</td></tr>\n",
       "\t<tr><th scope=row>5</th><td>ENSRNOG00000007300</td><td>C1qtnf6</td><td> 2966</td><td> 4.386886</td><td> 3.988783</td><td> 4.784989</td><td>5.568034</td><td> 24.13224</td><td>3.419276e-11</td><td>7.111994e-08</td><td>⋯</td><td> 239.790816</td><td> 38.315380</td><td>  9.976908</td><td> 351.327275</td><td> 35.681385</td><td> 11.890774</td><td> 182.81669</td><td> 26.863152</td><td>  5.357718</td><td> 135.603649</td></tr>\n",
       "\t<tr><th scope=row>6</th><td>ENSRNOG00000003720</td><td>Prrx1  </td><td>  862</td><td> 3.925466</td><td> 3.567550</td><td> 4.283382</td><td>4.547530</td><td> 24.01857</td><td>3.606096e-11</td><td>7.111994e-08</td><td>⋯</td><td>  98.667538</td><td> 26.550492</td><td>  7.192655</td><td> 118.963844</td><td> 14.983093</td><td>  7.478813</td><td>  75.05335</td><td>  9.711093</td><td>  2.976510</td><td>  73.301900</td></tr>\n",
       "</tbody>\n",
       "</table>\n"
      ],
      "text/latex": [
       "A data.frame: 6 × 26\n",
       "\\begin{tabular}{r|lllllllllllllllllllll}\n",
       "  & ensembl\\_gene\\_id & external\\_gene\\_name & Length & logFC & CI.L & CI.R & AveExpr & t & P.Value & adj.P.Val & ⋯ & X3869out & X3875in & X3875lung & X3875out & X3876in & X3876lung & X3876out & X3877in & X3877lung & X3877out\\\\\n",
       "  & <chr> & <chr> & <int> & <dbl> & <dbl> & <dbl> & <dbl> & <dbl> & <dbl> & <dbl> & ⋯ & <dbl> & <dbl> & <dbl> & <dbl> & <dbl> & <dbl> & <dbl> & <dbl> & <dbl> & <dbl>\\\\\n",
       "\\hline\n",
       "\t1 & ENSRNOG00000014851 & Col4a4  & 10929 & -4.598349 & -4.872898 & -4.323800 & 4.835078 & -36.67915 & 2.973766e-13 & 4.423774e-09 & ⋯ &    6.432688 &   9.062144 & 296.847821 &   17.916912 &  10.658076 & 249.598652 &   11.04846 &  10.720037 & 393.169926 &   14.894012\\\\\n",
       "\t2 & ENSRNOG00000014170 & Dbn1    &  2898 &  2.778001 &  2.582172 &  2.973830 & 6.137255 &  31.06648 & 1.964046e-12 & 1.460857e-08 & ⋯ &  229.894373 &  67.886586 &  26.404003 &  197.753743 &  50.818943 &  26.310356 &  160.61091 &  49.816644 &  19.212020 &  147.674612\\\\\n",
       "\t3 & ENSRNOG00000008412 & Gprc5a  &  2092 & -5.329575 & -5.723396 & -4.935754 & 3.883093 & -29.63675 & 3.351435e-12 & 1.661865e-08 & ⋯ &    6.432688 &   4.928534 & 201.255120 &    6.120684 &   4.479481 & 257.023661 &    6.15013 &   4.414133 & 278.330754 &    4.769978\\\\\n",
       "\t4 & ENSRNOG00000004554 & Dcn     &  1862 &  4.989053 &  4.590904 &  5.387201 & 9.020359 &  27.44165 & 8.011594e-12 & 2.979512e-08 & ⋯ & 1715.944266 & 678.070939 &  87.471962 & 3499.362101 & 618.631813 &  66.663662 & 2142.47661 & 470.798817 &  66.078524 & 1851.822115\\\\\n",
       "\t5 & ENSRNOG00000007300 & C1qtnf6 &  2966 &  4.386886 &  3.988783 &  4.784989 & 5.568034 &  24.13224 & 3.419276e-11 & 7.111994e-08 & ⋯ &  239.790816 &  38.315380 &   9.976908 &  351.327275 &  35.681385 &  11.890774 &  182.81669 &  26.863152 &   5.357718 &  135.603649\\\\\n",
       "\t6 & ENSRNOG00000003720 & Prrx1   &   862 &  3.925466 &  3.567550 &  4.283382 & 4.547530 &  24.01857 & 3.606096e-11 & 7.111994e-08 & ⋯ &   98.667538 &  26.550492 &   7.192655 &  118.963844 &  14.983093 &   7.478813 &   75.05335 &   9.711093 &   2.976510 &   73.301900\\\\\n",
       "\\end{tabular}\n"
      ],
      "text/markdown": [
       "\n",
       "A data.frame: 6 × 26\n",
       "\n",
       "| <!--/--> | ensembl_gene_id &lt;chr&gt; | external_gene_name &lt;chr&gt; | Length &lt;int&gt; | logFC &lt;dbl&gt; | CI.L &lt;dbl&gt; | CI.R &lt;dbl&gt; | AveExpr &lt;dbl&gt; | t &lt;dbl&gt; | P.Value &lt;dbl&gt; | adj.P.Val &lt;dbl&gt; | ⋯ ⋯ | X3869out &lt;dbl&gt; | X3875in &lt;dbl&gt; | X3875lung &lt;dbl&gt; | X3875out &lt;dbl&gt; | X3876in &lt;dbl&gt; | X3876lung &lt;dbl&gt; | X3876out &lt;dbl&gt; | X3877in &lt;dbl&gt; | X3877lung &lt;dbl&gt; | X3877out &lt;dbl&gt; |\n",
       "|---|---|---|---|---|---|---|---|---|---|---|---|---|---|---|---|---|---|---|---|---|---|\n",
       "| 1 | ENSRNOG00000014851 | Col4a4  | 10929 | -4.598349 | -4.872898 | -4.323800 | 4.835078 | -36.67915 | 2.973766e-13 | 4.423774e-09 | ⋯ |    6.432688 |   9.062144 | 296.847821 |   17.916912 |  10.658076 | 249.598652 |   11.04846 |  10.720037 | 393.169926 |   14.894012 |\n",
       "| 2 | ENSRNOG00000014170 | Dbn1    |  2898 |  2.778001 |  2.582172 |  2.973830 | 6.137255 |  31.06648 | 1.964046e-12 | 1.460857e-08 | ⋯ |  229.894373 |  67.886586 |  26.404003 |  197.753743 |  50.818943 |  26.310356 |  160.61091 |  49.816644 |  19.212020 |  147.674612 |\n",
       "| 3 | ENSRNOG00000008412 | Gprc5a  |  2092 | -5.329575 | -5.723396 | -4.935754 | 3.883093 | -29.63675 | 3.351435e-12 | 1.661865e-08 | ⋯ |    6.432688 |   4.928534 | 201.255120 |    6.120684 |   4.479481 | 257.023661 |    6.15013 |   4.414133 | 278.330754 |    4.769978 |\n",
       "| 4 | ENSRNOG00000004554 | Dcn     |  1862 |  4.989053 |  4.590904 |  5.387201 | 9.020359 |  27.44165 | 8.011594e-12 | 2.979512e-08 | ⋯ | 1715.944266 | 678.070939 |  87.471962 | 3499.362101 | 618.631813 |  66.663662 | 2142.47661 | 470.798817 |  66.078524 | 1851.822115 |\n",
       "| 5 | ENSRNOG00000007300 | C1qtnf6 |  2966 |  4.386886 |  3.988783 |  4.784989 | 5.568034 |  24.13224 | 3.419276e-11 | 7.111994e-08 | ⋯ |  239.790816 |  38.315380 |   9.976908 |  351.327275 |  35.681385 |  11.890774 |  182.81669 |  26.863152 |   5.357718 |  135.603649 |\n",
       "| 6 | ENSRNOG00000003720 | Prrx1   |   862 |  3.925466 |  3.567550 |  4.283382 | 4.547530 |  24.01857 | 3.606096e-11 | 7.111994e-08 | ⋯ |   98.667538 |  26.550492 |   7.192655 |  118.963844 |  14.983093 |   7.478813 |   75.05335 |   9.711093 |   2.976510 |   73.301900 |\n",
       "\n"
      ],
      "text/plain": [
       "  ensembl_gene_id    external_gene_name Length logFC     CI.L      CI.R     \n",
       "1 ENSRNOG00000014851 Col4a4             10929  -4.598349 -4.872898 -4.323800\n",
       "2 ENSRNOG00000014170 Dbn1                2898   2.778001  2.582172  2.973830\n",
       "3 ENSRNOG00000008412 Gprc5a              2092  -5.329575 -5.723396 -4.935754\n",
       "4 ENSRNOG00000004554 Dcn                 1862   4.989053  4.590904  5.387201\n",
       "5 ENSRNOG00000007300 C1qtnf6             2966   4.386886  3.988783  4.784989\n",
       "6 ENSRNOG00000003720 Prrx1                862   3.925466  3.567550  4.283382\n",
       "  AveExpr  t         P.Value      adj.P.Val    ⋯ X3869out    X3875in   \n",
       "1 4.835078 -36.67915 2.973766e-13 4.423774e-09 ⋯    6.432688   9.062144\n",
       "2 6.137255  31.06648 1.964046e-12 1.460857e-08 ⋯  229.894373  67.886586\n",
       "3 3.883093 -29.63675 3.351435e-12 1.661865e-08 ⋯    6.432688   4.928534\n",
       "4 9.020359  27.44165 8.011594e-12 2.979512e-08 ⋯ 1715.944266 678.070939\n",
       "5 5.568034  24.13224 3.419276e-11 7.111994e-08 ⋯  239.790816  38.315380\n",
       "6 4.547530  24.01857 3.606096e-11 7.111994e-08 ⋯   98.667538  26.550492\n",
       "  X3875lung  X3875out    X3876in    X3876lung  X3876out   X3877in    X3877lung \n",
       "1 296.847821   17.916912  10.658076 249.598652   11.04846  10.720037 393.169926\n",
       "2  26.404003  197.753743  50.818943  26.310356  160.61091  49.816644  19.212020\n",
       "3 201.255120    6.120684   4.479481 257.023661    6.15013   4.414133 278.330754\n",
       "4  87.471962 3499.362101 618.631813  66.663662 2142.47661 470.798817  66.078524\n",
       "5   9.976908  351.327275  35.681385  11.890774  182.81669  26.863152   5.357718\n",
       "6   7.192655  118.963844  14.983093   7.478813   75.05335   9.711093   2.976510\n",
       "  X3877out   \n",
       "1   14.894012\n",
       "2  147.674612\n",
       "3    4.769978\n",
       "4 1851.822115\n",
       "5  135.603649\n",
       "6   73.301900"
      ]
     },
     "metadata": {},
     "output_type": "display_data"
    },
    {
     "name": "stdout",
     "output_type": "stream",
     "text": [
      "[1] \"../..//DE_and_abundance/2022_03_18_analysis/tumor_and_lungs/top_tables/toptable_rn_Regionout-Regionlung.csv\"\n"
     ]
    }
   ],
   "source": [
    "head(top_table_with_abundance)\n",
    "print(savepath)"
   ]
  },
  {
   "cell_type": "code",
   "execution_count": 37,
   "metadata": {},
   "outputs": [],
   "source": [
    "##################################\n",
    "## Create tidy TPM and counts\n",
    "#################################"
   ]
  },
  {
   "cell_type": "code",
   "execution_count": 38,
   "metadata": {},
   "outputs": [],
   "source": [
    "## Cast the TPM table into tidy format and add sample info"
   ]
  },
  {
   "cell_type": "code",
   "execution_count": 39,
   "metadata": {},
   "outputs": [],
   "source": [
    "RPKM <- data.table::copy(rpkm(y))\n",
    "TPM2 <- sweep(RPKM, 2, colSums(RPKM), '/')*(1.e6)\n",
    "TPM2 <- rownames_to_column(as.data.frame(TPM2), var='ensembl_gene_id')"
   ]
  },
  {
   "cell_type": "code",
   "execution_count": 40,
   "metadata": {},
   "outputs": [],
   "source": [
    "TPM.tidy <- pivot_longer(TPM2, -ensembl_gene_id, names_to='Sample', values_to='TPM')\n",
    "TPM.tidy <- left_join(TPM.tidy, meta, by='Sample')\n",
    "TPM.tidy <- left_join(TPM.tidy, gene_annot, by='ensembl_gene_id')\n",
    "TPM.tidy <- dplyr::select(TPM.tidy, ensembl_gene_id, external_gene_name, colnames(meta), everything())"
   ]
  },
  {
   "cell_type": "code",
   "execution_count": 41,
   "metadata": {},
   "outputs": [],
   "source": [
    "filename <- paste0('TPM_', species, '.csv')\n",
    "savefile <- file.path(save_dir, 'tidy_abundance_tables', filename)\n",
    "write.csv(TPM.tidy, savefile)"
   ]
  },
  {
   "cell_type": "code",
   "execution_count": 42,
   "metadata": {},
   "outputs": [],
   "source": [
    "## Get the voom normalized counts per million"
   ]
  },
  {
   "cell_type": "code",
   "execution_count": 43,
   "metadata": {},
   "outputs": [],
   "source": [
    "voom_cpm <- v$E\n",
    "voom_cpm2 <- 2**voom_cpm\n",
    "voom_cpm3 <- rownames_to_column(as.data.frame(voom_cpm2), var='ensembl_gene_id')\n",
    "voom_cpm_tidy <- pivot_longer(voom_cpm3, -ensembl_gene_id, names_to='Sample', values_to='CPM')\n",
    "voom_cpm_tidy <- left_join(voom_cpm_tidy, meta, by='Sample')\n",
    "voom_cpm_tidy <- left_join(voom_cpm_tidy, gene_annot, by='ensembl_gene_id')\n",
    "voom_cpm_tidy <- dplyr::select(voom_cpm_tidy, ensembl_gene_id, external_gene_name, colnames(meta), everything())\n",
    "filename <- paste0('cpm_voom_tidy_',species, '.csv')\n",
    "voom_cpm_save_file <- file.path(save_dir, 'tidy_abundance_tables', filename)\n",
    "write.csv(voom_cpm_tidy, voom_cpm_save_file, row.names=FALSE)"
   ]
  },
  {
   "cell_type": "code",
   "execution_count": 44,
   "metadata": {},
   "outputs": [],
   "source": [
    "## Get tidy raw counts`"
   ]
  },
  {
   "cell_type": "code",
   "execution_count": 45,
   "metadata": {},
   "outputs": [],
   "source": [
    "counts2 <- rownames_to_column(counts, var='ensembl_gene_id')\n",
    "genes <- gene_annot['ensembl_gene_id']\n",
    "counts2 <- dplyr::filter(counts2, ensembl_gene_id %in% gene_annot$ensembl_gene_id)\n",
    "counts.tidy <- pivot_longer(counts2, -ensembl_gene_id, names_to='Sample', values_to='Counts')\n",
    "counts.tidy <- left_join(counts.tidy, meta, by='Sample')\n",
    "counts.tidy <- left_join(counts.tidy, gene_annot, by='ensembl_gene_id')\n",
    "counts.tidy <- dplyr::select(counts.tidy, ensembl_gene_id, external_gene_name, colnames(meta), everything())"
   ]
  },
  {
   "cell_type": "code",
   "execution_count": 46,
   "metadata": {},
   "outputs": [],
   "source": [
    "# Save tidy counts table"
   ]
  },
  {
   "cell_type": "code",
   "execution_count": 47,
   "metadata": {},
   "outputs": [],
   "source": [
    "filename <- paste0('Unfiltered_counts_tidy_', species, '.csv')\n",
    "counts_save_file <- file.path(save_dir, 'tidy_abundance_tables', filename)\n",
    "write.csv(counts.tidy, counts_save_file, row.names=FALSE)"
   ]
  },
  {
   "cell_type": "code",
   "execution_count": 48,
   "metadata": {},
   "outputs": [],
   "source": [
    "## Merge "
   ]
  },
  {
   "cell_type": "code",
   "execution_count": 49,
   "metadata": {},
   "outputs": [],
   "source": [
    "TPM_counts_tidy <- left_join(TPM.tidy, counts.tidy, by=append(c('ensembl_gene_id', 'external_gene_name'),colnames(meta)))"
   ]
  },
  {
   "cell_type": "code",
   "execution_count": 50,
   "metadata": {},
   "outputs": [],
   "source": [
    "TPM_cpm_tidy <- left_join(TPM.tidy, voom_cpm_tidy, by=append(c('ensembl_gene_id', 'external_gene_name'),colnames(meta)))"
   ]
  },
  {
   "cell_type": "code",
   "execution_count": 51,
   "metadata": {},
   "outputs": [],
   "source": [
    "TPM_counts_cpm <- left_join(TPM_cpm_tidy, counts.tidy, by=append(c('ensembl_gene_id', 'external_gene_name'),colnames(meta)))\n",
    "TPM_counts_cpm <- dplyr::select(TPM_counts_cpm, ensembl_gene_id, external_gene_name, colnames(meta), everything())"
   ]
  },
  {
   "cell_type": "code",
   "execution_count": 52,
   "metadata": {},
   "outputs": [],
   "source": [
    "## Merge tidy table"
   ]
  },
  {
   "cell_type": "code",
   "execution_count": 53,
   "metadata": {},
   "outputs": [],
   "source": [
    "filename <- paste0('TPM_CPM_counts_', species, '.csv')\n",
    "tpm_cpm_cts_save_file <- file.path(save_dir, 'tidy_abundance_tables', filename)\n",
    "write.csv(TPM_counts_cpm, tpm_cpm_cts_save_file, row.names=FALSE)"
   ]
  },
  {
   "cell_type": "code",
   "execution_count": null,
   "metadata": {},
   "outputs": [],
   "source": []
  }
 ],
 "metadata": {
  "kernelspec": {
   "display_name": "R",
   "language": "R",
   "name": "ir"
  },
  "language_info": {
   "codemirror_mode": "r",
   "file_extension": ".r",
   "mimetype": "text/x-r-source",
   "name": "R",
   "pygments_lexer": "r",
   "version": "4.1.1"
  }
 },
 "nbformat": 4,
 "nbformat_minor": 4
}
