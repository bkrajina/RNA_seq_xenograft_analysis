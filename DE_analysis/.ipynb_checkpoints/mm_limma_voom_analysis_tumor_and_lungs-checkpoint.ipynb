{
 "cells": [
  {
   "cell_type": "code",
   "execution_count": 1,
   "metadata": {},
   "outputs": [
    {
     "name": "stderr",
     "output_type": "stream",
     "text": [
      "\n",
      "Attaching package: ‘dplyr’\n",
      "\n",
      "\n",
      "The following objects are masked from ‘package:data.table’:\n",
      "\n",
      "    between, first, last\n",
      "\n",
      "\n",
      "The following objects are masked from ‘package:stats’:\n",
      "\n",
      "    filter, lag\n",
      "\n",
      "\n",
      "The following objects are masked from ‘package:base’:\n",
      "\n",
      "    intersect, setdiff, setequal, union\n",
      "\n",
      "\n"
     ]
    }
   ],
   "source": [
    "library(data.table)\n",
    "library(limma)\n",
    "library(dplyr)\n",
    "library(edgeR)\n",
    "library(tibble)\n",
    "library(biomaRt)\n",
    "library(tidyr)\n",
    "library(stringr)\n",
    "library(gtools)"
   ]
  },
  {
   "cell_type": "code",
   "execution_count": 2,
   "metadata": {},
   "outputs": [],
   "source": [
    "## Import gene names"
   ]
  },
  {
   "cell_type": "code",
   "execution_count": 3,
   "metadata": {},
   "outputs": [],
   "source": [
    "ensembl = useEnsembl(biomart=\"ensembl\", dataset=\"mmusculus_gene_ensembl\", version=100)"
   ]
  },
  {
   "cell_type": "code",
   "execution_count": 4,
   "metadata": {},
   "outputs": [],
   "source": [
    "gene_annot <- getBM(mart=ensembl, attributes=c('ensembl_gene_id', 'external_gene_name'))"
   ]
  },
  {
   "cell_type": "code",
   "execution_count": 5,
   "metadata": {},
   "outputs": [],
   "source": [
    "base_dir <- \"../../\"\n",
    "species <- 'mm'\n",
    "save_dir <- file.path(base_dir, 'DE_and_abundance', '2022_03_18_analysis', 'tumor_and_lungs')\n",
    "meta_path <- file.path(base_dir, \"tumor_region_metadata.csv\")\n",
    "counts_path <- file.path(base_dir, \"feature_counts\", paste0(\"tumor_trimmed_gene_counts_\", species, '.csv'))\n",
    "annot_path <- file.path(base_dir, \"feature_counts\", paste0(\"tumor_trimmed_FC_gene_annot_\", species, '.csv'))"
   ]
  },
  {
   "cell_type": "code",
   "execution_count": 6,
   "metadata": {},
   "outputs": [],
   "source": [
    "FC_annot <- read.csv(annot_path, row.names=1)\n",
    "## Select only gene id and length. Note that dplyr will drop row names upon select\n",
    "## but edgeR expects gene id in row names, so convert gene_id to column, then back, \n",
    "## to row names after selecting\n",
    "FC_annot <- rownames_to_column(FC_annot, var='gene_id')\n",
    "FC_annot <- dplyr::select(FC_annot, 'gene_id', 'Length')\n",
    "FC_annot <- column_to_rownames(FC_annot, var='gene_id')"
   ]
  },
  {
   "cell_type": "code",
   "execution_count": 7,
   "metadata": {},
   "outputs": [],
   "source": [
    "meta <- read.csv(meta_path)"
   ]
  },
  {
   "cell_type": "code",
   "execution_count": 8,
   "metadata": {},
   "outputs": [],
   "source": [
    "counts <- read.csv(counts_path, row.names=1)"
   ]
  },
  {
   "cell_type": "code",
   "execution_count": 9,
   "metadata": {},
   "outputs": [],
   "source": [
    "## Change meta sample names to be acceptable variable names"
   ]
  },
  {
   "cell_type": "code",
   "execution_count": 10,
   "metadata": {},
   "outputs": [],
   "source": [
    "meta$Sample <- paste0('X', meta$Sample)\n",
    "meta$Sample <- gsub('-', '.', meta$Sample)\n",
    "meta$RatID <- factor(meta$RatID)"
   ]
  },
  {
   "cell_type": "code",
   "execution_count": 11,
   "metadata": {},
   "outputs": [],
   "source": [
    "## Take counts in the filtered sample list "
   ]
  },
  {
   "cell_type": "code",
   "execution_count": 12,
   "metadata": {},
   "outputs": [],
   "source": [
    "counts <- dplyr::select(counts, meta$Sample)"
   ]
  },
  {
   "cell_type": "code",
   "execution_count": 13,
   "metadata": {},
   "outputs": [],
   "source": [
    "## Get differential gene expression list for use in limma"
   ]
  },
  {
   "cell_type": "code",
   "execution_count": 14,
   "metadata": {},
   "outputs": [],
   "source": [
    "y <- DGEList(counts, genes=FC_annot)"
   ]
  },
  {
   "cell_type": "code",
   "execution_count": 15,
   "metadata": {},
   "outputs": [],
   "source": [
    "## Define the linear model and get the design matrix"
   ]
  },
  {
   "cell_type": "code",
   "execution_count": 16,
   "metadata": {},
   "outputs": [],
   "source": [
    "design <- model.matrix(~ 0 + Region + RatID, data=meta)"
   ]
  },
  {
   "cell_type": "code",
   "execution_count": 17,
   "metadata": {},
   "outputs": [],
   "source": [
    "## Filter the data to remove low expressed genes"
   ]
  },
  {
   "cell_type": "code",
   "execution_count": 18,
   "metadata": {},
   "outputs": [],
   "source": [
    "keep <- filterByExpr(y, design, min.count=10, min.total.count=15)\n",
    "y <- y[keep, keep.lib.sizes=FALSE]"
   ]
  },
  {
   "cell_type": "code",
   "execution_count": 19,
   "metadata": {},
   "outputs": [],
   "source": [
    "## Calculate library normalization factors "
   ]
  },
  {
   "cell_type": "code",
   "execution_count": 20,
   "metadata": {},
   "outputs": [],
   "source": [
    "y <- calcNormFactors(y)"
   ]
  },
  {
   "cell_type": "code",
   "execution_count": 22,
   "metadata": {},
   "outputs": [
    {
     "data": {
      "image/png": "[encoded data removed]",
      "text/plain": [
       "Plot with title “voom: Mean-variance trend”"
      ]
     },
     "metadata": {
      "image/png": {
       "height": 420,
       "width": 420
      }
     },
     "output_type": "display_data"
    }
   ],
   "source": [
    "v <- voom(y,design, plot=TRUE)"
   ]
  },
  {
   "cell_type": "code",
   "execution_count": 23,
   "metadata": {},
   "outputs": [],
   "source": [
    "## Fit the linear model and perform empirical Bayes smoothing"
   ]
  },
  {
   "cell_type": "code",
   "execution_count": 24,
   "metadata": {},
   "outputs": [],
   "source": [
    "fit <- lmFit(v,design)\n",
    "fit <- eBayes(fit)"
   ]
  },
  {
   "cell_type": "code",
   "execution_count": 25,
   "metadata": {},
   "outputs": [],
   "source": [
    "## Get contrasts for pair-wise comparisons\n",
    "contr <- c('Regionin-Regionlung', 'Regionin-Regionout', 'Regionout-Regionlung')\n",
    "contrast.matrix <- makeContrasts(contrasts=contr, levels=design)"
   ]
  },
  {
   "cell_type": "code",
   "execution_count": 27,
   "metadata": {},
   "outputs": [],
   "source": [
    "## Fit coefficients for contrasts"
   ]
  },
  {
   "cell_type": "code",
   "execution_count": 28,
   "metadata": {},
   "outputs": [],
   "source": [
    "fit2 <- contrasts.fit(fit, contrast.matrix)\n",
    "fit2 <- eBayes(fit2)"
   ]
  },
  {
   "cell_type": "code",
   "execution_count": 29,
   "metadata": {},
   "outputs": [],
   "source": [
    "## Get abundance from log-transformed CPM"
   ]
  },
  {
   "cell_type": "code",
   "execution_count": 30,
   "metadata": {},
   "outputs": [],
   "source": [
    "voom_counts <- as.data.frame(v$E)\n",
    "abundance <- 2.**(data.table::copy(voom_counts))\n",
    "abundance <- dplyr::select(abundance,mixedorder(colnames(abundance)))\n",
    "abundance <- rownames_to_column(abundance, var='ensembl_gene_id')"
   ]
  },
  {
   "cell_type": "code",
   "execution_count": 31,
   "metadata": {},
   "outputs": [],
   "source": [
    "## Get RPKM and convert to TPM"
   ]
  },
  {
   "cell_type": "code",
   "execution_count": 32,
   "metadata": {},
   "outputs": [],
   "source": [
    "RPKM <- as.data.frame(data.table::copy(rpkm(y)))\n",
    "TPM <- sweep(RPKM, 2, colSums(RPKM), '/')*(1.e6)\n",
    "TPM <- dplyr::select(TPM,mixedorder(colnames(TPM)))\n",
    "TPM <- rownames_to_column(TPM, var='ensembl_gene_id')"
   ]
  },
  {
   "cell_type": "code",
   "execution_count": 33,
   "metadata": {},
   "outputs": [],
   "source": [
    "## Get top table with logFC and FDR"
   ]
  },
  {
   "cell_type": "code",
   "execution_count": 34,
   "metadata": {},
   "outputs": [],
   "source": [
    "top_table <- topTable(fit2, coef='Regionin-Regionout', number=Inf, sort.by=\"P\")"
   ]
  },
  {
   "cell_type": "code",
   "execution_count": 35,
   "metadata": {},
   "outputs": [],
   "source": [
    "for (contrast in contr){\n",
    "    top_table <- topTable(fit2, coef=contrast, number=Inf, sort.by=\"t\", confint=TRUE)\n",
    "    top_table <- rownames_to_column(top_table, var='ensembl_gene_id')\n",
    "    top_table <- left_join(top_table, gene_annot, by='ensembl_gene_id')\n",
    "    top_table <- dplyr::select(top_table, ensembl_gene_id, external_gene_name, everything())\n",
    "    \n",
    "    top_table_with_abundance <- left_join(top_table, abundance, by='ensembl_gene_id')\n",
    "    top_table_with_TPM <- left_join(top_table, TPM, by='ensembl_gene_id')\n",
    "    contrast_label <- str_remove_all(contrast, 'Region')\n",
    "    \n",
    "     # Save top table with CPM abundance\n",
    "    filename <- paste0('toptable_and_CPM_', species, '_', contrast_label, '.csv')\n",
    "    savepath <- file.path(save_dir, 'top_tables_with_CPM_abundance', filename)\n",
    "    write.csv(top_table_with_abundance, savepath, row.names=FALSE)\n",
    "    \n",
    "    # Save top table with TPM abundance\n",
    "    filename <- paste0('toptable_and_TPM_', species, '_', contrast_label, '.csv')\n",
    "    savepath <- file.path(save_dir, 'top_tables_with_TPM_abundance', filename)\n",
    "    write.csv(top_table_with_TPM, savepath, row.names=FALSE)\n",
    "    \n",
    "    # save top table with no abundance\n",
    "    filename <- paste0('toptable_',species,'_', contrast, '.csv')\n",
    "    savepath <- file.path(save_dir, 'top_tables', filename)\n",
    "    write.csv(top_table, savepath, row.names=FALSE)\n",
    "}"
   ]
  },
  {
   "cell_type": "code",
   "execution_count": 36,
   "metadata": {},
   "outputs": [],
   "source": [
    "##################################\n",
    "## Create tidy TPM and counts\n",
    "#################################"
   ]
  },
  {
   "cell_type": "code",
   "execution_count": 37,
   "metadata": {},
   "outputs": [],
   "source": [
    "## Cast the TPM table into tidy format and add sample info"
   ]
  },
  {
   "cell_type": "code",
   "execution_count": 38,
   "metadata": {},
   "outputs": [],
   "source": [
    "RPKM <- data.table::copy(rpkm(y))\n",
    "TPM2 <- sweep(RPKM, 2, colSums(RPKM), '/')*(1.e6)\n",
    "TPM2 <- rownames_to_column(as.data.frame(TPM2), var='ensembl_gene_id')"
   ]
  },
  {
   "cell_type": "code",
   "execution_count": 39,
   "metadata": {},
   "outputs": [],
   "source": [
    "TPM.tidy <- pivot_longer(TPM2, -ensembl_gene_id, names_to='Sample', values_to='TPM')\n",
    "TPM.tidy <- left_join(TPM.tidy, meta, by='Sample')\n",
    "TPM.tidy <- left_join(TPM.tidy, gene_annot, by='ensembl_gene_id')\n",
    "TPM.tidy <- dplyr::select(TPM.tidy, ensembl_gene_id, external_gene_name, colnames(meta), everything())"
   ]
  },
  {
   "cell_type": "code",
   "execution_count": 40,
   "metadata": {},
   "outputs": [],
   "source": [
    "filename <- paste0('TPM_', species, '.csv')\n",
    "savefile <- file.path(save_dir, 'tidy_abundance_tables', filename)\n",
    "write.csv(TPM.tidy, savefile)"
   ]
  },
  {
   "cell_type": "code",
   "execution_count": 41,
   "metadata": {},
   "outputs": [],
   "source": [
    "## Get the voom normalized counts per million"
   ]
  },
  {
   "cell_type": "code",
   "execution_count": 42,
   "metadata": {},
   "outputs": [],
   "source": [
    "voom_cpm <- v$E\n",
    "voom_cpm2 <- 2**voom_cpm\n",
    "voom_cpm3 <- rownames_to_column(as.data.frame(voom_cpm2), var='ensembl_gene_id')\n",
    "voom_cpm_tidy <- pivot_longer(voom_cpm3, -ensembl_gene_id, names_to='Sample', values_to='CPM')\n",
    "voom_cpm_tidy <- left_join(voom_cpm_tidy, meta, by='Sample')\n",
    "voom_cpm_tidy <- left_join(voom_cpm_tidy, gene_annot, by='ensembl_gene_id')\n",
    "voom_cpm_tidy <- dplyr::select(voom_cpm_tidy, ensembl_gene_id, external_gene_name, colnames(meta), everything())\n",
    "filename <- paste0('cpm_voom_tidy_',species, '.csv')\n",
    "voom_cpm_save_file <- file.path(save_dir, 'tidy_abundance_tables', filename)\n",
    "write.csv(voom_cpm_tidy, voom_cpm_save_file, row.names=FALSE)"
   ]
  },
  {
   "cell_type": "code",
   "execution_count": 43,
   "metadata": {},
   "outputs": [],
   "source": [
    "## Get tidy raw counts`"
   ]
  },
  {
   "cell_type": "code",
   "execution_count": 44,
   "metadata": {},
   "outputs": [],
   "source": [
    "counts2 <- rownames_to_column(counts, var='ensembl_gene_id')\n",
    "genes <- gene_annot['ensembl_gene_id']\n",
    "counts2 <- dplyr::filter(counts2, ensembl_gene_id %in% gene_annot$ensembl_gene_id)\n",
    "counts.tidy <- pivot_longer(counts2, -ensembl_gene_id, names_to='Sample', values_to='Counts')\n",
    "counts.tidy <- left_join(counts.tidy, meta, by='Sample')\n",
    "counts.tidy <- left_join(counts.tidy, gene_annot, by='ensembl_gene_id')\n",
    "counts.tidy <- dplyr::select(counts.tidy, ensembl_gene_id, external_gene_name, colnames(meta), everything())"
   ]
  },
  {
   "cell_type": "code",
   "execution_count": 45,
   "metadata": {},
   "outputs": [],
   "source": [
    "# Save tidy counts table"
   ]
  },
  {
   "cell_type": "code",
   "execution_count": 46,
   "metadata": {},
   "outputs": [],
   "source": [
    "filename <- paste0('Unfiltered_counts_tidy_', species, '.csv')\n",
    "counts_save_file <- file.path(save_dir, 'tidy_abundance_tables', filename)\n",
    "write.csv(counts.tidy, counts_save_file, row.names=FALSE)"
   ]
  },
  {
   "cell_type": "code",
   "execution_count": 47,
   "metadata": {},
   "outputs": [],
   "source": [
    "## Merge "
   ]
  },
  {
   "cell_type": "code",
   "execution_count": 48,
   "metadata": {},
   "outputs": [],
   "source": [
    "TPM_counts_tidy <- left_join(TPM.tidy, counts.tidy, by=append(c('ensembl_gene_id', 'external_gene_name'),colnames(meta)))"
   ]
  },
  {
   "cell_type": "code",
   "execution_count": 49,
   "metadata": {},
   "outputs": [],
   "source": [
    "TPM_cpm_tidy <- left_join(TPM.tidy, voom_cpm_tidy, by=append(c('ensembl_gene_id', 'external_gene_name'),colnames(meta)))"
   ]
  },
  {
   "cell_type": "code",
   "execution_count": 50,
   "metadata": {},
   "outputs": [],
   "source": [
    "TPM_counts_cpm <- left_join(TPM_cpm_tidy, counts.tidy, by=append(c('ensembl_gene_id', 'external_gene_name'),colnames(meta)))\n",
    "TPM_counts_cpm <- dplyr::select(TPM_counts_cpm, ensembl_gene_id, external_gene_name, colnames(meta), everything())"
   ]
  },
  {
   "cell_type": "code",
   "execution_count": 51,
   "metadata": {},
   "outputs": [],
   "source": [
    "## Merge tidy table"
   ]
  },
  {
   "cell_type": "code",
   "execution_count": 52,
   "metadata": {},
   "outputs": [],
   "source": [
    "filename <- paste0('TPM_CPM_counts_', species, '.csv')\n",
    "tpm_cpm_cts_save_file <- file.path(save_dir, 'tidy_abundance_tables', filename)\n",
    "write.csv(TPM_counts_cpm, tpm_cpm_cts_save_file, row.names=FALSE)"
   ]
  },
  {
   "cell_type": "code",
   "execution_count": null,
   "metadata": {},
   "outputs": [],
   "source": []
  }
 ],
 "metadata": {
  "kernelspec": {
   "display_name": "R",
   "language": "R",
   "name": "ir"
  },
  "language_info": {
   "codemirror_mode": "r",
   "file_extension": ".r",
   "mimetype": "text/x-r-source",
   "name": "R",
   "pygments_lexer": "r",
   "version": "4.1.1"
  }
 },
 "nbformat": 4,
 "nbformat_minor": 4
}
