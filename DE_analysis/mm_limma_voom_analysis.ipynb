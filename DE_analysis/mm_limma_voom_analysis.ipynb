{
 "cells": [
  {
   "cell_type": "code",
   "execution_count": 1,
   "metadata": {},
   "outputs": [
    {
     "name": "stderr",
     "output_type": "stream",
     "text": [
      "\n",
      "Attaching package: ‘dplyr’\n",
      "\n",
      "\n",
      "The following objects are masked from ‘package:data.table’:\n",
      "\n",
      "    between, first, last\n",
      "\n",
      "\n",
      "The following objects are masked from ‘package:stats’:\n",
      "\n",
      "    filter, lag\n",
      "\n",
      "\n",
      "The following objects are masked from ‘package:base’:\n",
      "\n",
      "    intersect, setdiff, setequal, union\n",
      "\n",
      "\n"
     ]
    }
   ],
   "source": [
    "library(data.table)\n",
    "library(limma)\n",
    "library(dplyr)\n",
    "library(edgeR)\n",
    "library(tibble)\n",
    "library(biomaRt)\n",
    "library(tidyr)\n",
    "library(stringr)\n"
   ]
  },
  {
   "cell_type": "code",
   "execution_count": 54,
   "metadata": {},
   "outputs": [],
   "source": [
    "## Import gene names"
   ]
  },
  {
   "cell_type": "code",
   "execution_count": 55,
   "metadata": {},
   "outputs": [],
   "source": [
    "ensembl = useEnsembl(biomart=\"ensembl\", dataset=\"mmusculus_gene_ensembl\", version=100)"
   ]
  },
  {
   "cell_type": "code",
   "execution_count": 56,
   "metadata": {},
   "outputs": [],
   "source": [
    "gene_annot <- getBM(mart=ensembl, attributes=c('ensembl_gene_id', 'external_gene_name'))"
   ]
  },
  {
   "cell_type": "code",
   "execution_count": 139,
   "metadata": {},
   "outputs": [],
   "source": [
    "base_dir <- \"../\"\n",
    "species <- 'mm'\n",
    "save_dir <- file.path(base_dir, 'DE_and_abundance')\n",
    "meta_path <- file.path(base_dir, \"meta_data\", \"meta_data.csv\")\n",
    "counts_path <- file.path(base_dir, \"feature_counts\", paste0(\"trimmed_gene_counts_\", species, '.csv'))\n",
    "annot_path <- file.path(base_dir, \"feature_counts\", paste0(\"trimmed_FC_gene_annot_\", species, '.csv'))"
   ]
  },
  {
   "cell_type": "code",
   "execution_count": 140,
   "metadata": {},
   "outputs": [],
   "source": [
    "FC_annot <- read.csv(annot_path, row.names=1)\n",
    "## Select only gene id and length. Note that dplyr will drop row names upon select\n",
    "## but edgeR expects gene id in row names, so convert gene_id to column, then back, \n",
    "## to row names after selecting\n",
    "FC_annot <- rownames_to_column(FC_annot, var='gene_id')\n",
    "FC_annot <- dplyr::select(FC_annot, 'gene_id', 'Length')\n",
    "FC_annot <- column_to_rownames(FC_annot, var='gene_id')"
   ]
  },
  {
   "cell_type": "code",
   "execution_count": 141,
   "metadata": {},
   "outputs": [],
   "source": [
    "meta <- read.csv(meta_path)"
   ]
  },
  {
   "cell_type": "code",
   "execution_count": 142,
   "metadata": {},
   "outputs": [],
   "source": [
    "counts <- read.csv(counts_path, row.names=1)"
   ]
  },
  {
   "cell_type": "code",
   "execution_count": 143,
   "metadata": {},
   "outputs": [],
   "source": [
    "## Change meta sample names to be acceptable variable names"
   ]
  },
  {
   "cell_type": "code",
   "execution_count": 144,
   "metadata": {},
   "outputs": [],
   "source": [
    "meta$RatID <- factor(meta$RatID)"
   ]
  },
  {
   "cell_type": "code",
   "execution_count": 145,
   "metadata": {},
   "outputs": [],
   "source": [
    "## Take counts in the filtered sample list "
   ]
  },
  {
   "cell_type": "code",
   "execution_count": 146,
   "metadata": {},
   "outputs": [],
   "source": [
    "counts <- dplyr::select(counts, meta$Sample)"
   ]
  },
  {
   "cell_type": "code",
   "execution_count": 147,
   "metadata": {},
   "outputs": [],
   "source": [
    "## Get differential gene expression list for use in limma"
   ]
  },
  {
   "cell_type": "code",
   "execution_count": 148,
   "metadata": {},
   "outputs": [],
   "source": [
    "y <- DGEList(counts, genes=FC_annot)"
   ]
  },
  {
   "cell_type": "code",
   "execution_count": 149,
   "metadata": {},
   "outputs": [],
   "source": [
    "## Define the linear model and get the design matrix"
   ]
  },
  {
   "cell_type": "code",
   "execution_count": 150,
   "metadata": {},
   "outputs": [],
   "source": [
    "design <- model.matrix(~ 0 + Condition, data=meta)"
   ]
  },
  {
   "cell_type": "code",
   "execution_count": 151,
   "metadata": {},
   "outputs": [],
   "source": [
    "## Filter the data to remove low expressed genes"
   ]
  },
  {
   "cell_type": "code",
   "execution_count": 152,
   "metadata": {},
   "outputs": [],
   "source": [
    "keep <- filterByExpr(y, design, min.count=10, min.total.count=15)\n",
    "y <- y[keep, keep.lib.sizes=FALSE]"
   ]
  },
  {
   "cell_type": "code",
   "execution_count": 153,
   "metadata": {},
   "outputs": [],
   "source": [
    "## Calculate library normalization factors "
   ]
  },
  {
   "cell_type": "code",
   "execution_count": 154,
   "metadata": {},
   "outputs": [],
   "source": [
    "y <- calcNormFactors(y)"
   ]
  },
  {
   "cell_type": "code",
   "execution_count": 155,
   "metadata": {},
   "outputs": [
    {
     "data": {
      "text/html": [
       "<table class=\"dataframe\">\n",
       "<caption>A data.frame: 14 × 3</caption>\n",
       "<thead>\n",
       "\t<tr><th></th><th scope=col>group</th><th scope=col>lib.size</th><th scope=col>norm.factors</th></tr>\n",
       "\t<tr><th></th><th scope=col>&lt;fct&gt;</th><th scope=col>&lt;dbl&gt;</th><th scope=col>&lt;dbl&gt;</th></tr>\n",
       "</thead>\n",
       "<tbody>\n",
       "\t<tr><th scope=row>sample_4821_in</th><td>1</td><td>6269533</td><td>1.0061400</td></tr>\n",
       "\t<tr><th scope=row>sample_4822_in</th><td>1</td><td>7012222</td><td>1.0073508</td></tr>\n",
       "\t<tr><th scope=row>sample_4823_in</th><td>1</td><td>7343828</td><td>1.0227778</td></tr>\n",
       "\t<tr><th scope=row>sample_4831_in</th><td>1</td><td>6448678</td><td>1.0217947</td></tr>\n",
       "\t<tr><th scope=row>sample_4832_in</th><td>1</td><td>7118852</td><td>0.9903188</td></tr>\n",
       "\t<tr><th scope=row>sample_4833_in</th><td>1</td><td>7091207</td><td>0.9469512</td></tr>\n",
       "\t<tr><th scope=row>sample_4834_in</th><td>1</td><td>7659315</td><td>0.9118046</td></tr>\n",
       "\t<tr><th scope=row>sample_4821_out</th><td>1</td><td>6763010</td><td>1.0076563</td></tr>\n",
       "\t<tr><th scope=row>sample_4822_out</th><td>1</td><td>6775492</td><td>1.0221313</td></tr>\n",
       "\t<tr><th scope=row>sample_4823_out</th><td>1</td><td>6981598</td><td>1.0184312</td></tr>\n",
       "\t<tr><th scope=row>sample_4831_out</th><td>1</td><td>6852246</td><td>1.0304974</td></tr>\n",
       "\t<tr><th scope=row>sample_4832_out</th><td>1</td><td>8049576</td><td>1.0205125</td></tr>\n",
       "\t<tr><th scope=row>sample_4833_out</th><td>1</td><td>6788623</td><td>0.9983957</td></tr>\n",
       "\t<tr><th scope=row>sample_4834_out</th><td>1</td><td>7181366</td><td>1.0025194</td></tr>\n",
       "</tbody>\n",
       "</table>\n"
      ],
      "text/latex": [
       "A data.frame: 14 × 3\n",
       "\\begin{tabular}{r|lll}\n",
       "  & group & lib.size & norm.factors\\\\\n",
       "  & <fct> & <dbl> & <dbl>\\\\\n",
       "\\hline\n",
       "\tsample\\_4821\\_in & 1 & 6269533 & 1.0061400\\\\\n",
       "\tsample\\_4822\\_in & 1 & 7012222 & 1.0073508\\\\\n",
       "\tsample\\_4823\\_in & 1 & 7343828 & 1.0227778\\\\\n",
       "\tsample\\_4831\\_in & 1 & 6448678 & 1.0217947\\\\\n",
       "\tsample\\_4832\\_in & 1 & 7118852 & 0.9903188\\\\\n",
       "\tsample\\_4833\\_in & 1 & 7091207 & 0.9469512\\\\\n",
       "\tsample\\_4834\\_in & 1 & 7659315 & 0.9118046\\\\\n",
       "\tsample\\_4821\\_out & 1 & 6763010 & 1.0076563\\\\\n",
       "\tsample\\_4822\\_out & 1 & 6775492 & 1.0221313\\\\\n",
       "\tsample\\_4823\\_out & 1 & 6981598 & 1.0184312\\\\\n",
       "\tsample\\_4831\\_out & 1 & 6852246 & 1.0304974\\\\\n",
       "\tsample\\_4832\\_out & 1 & 8049576 & 1.0205125\\\\\n",
       "\tsample\\_4833\\_out & 1 & 6788623 & 0.9983957\\\\\n",
       "\tsample\\_4834\\_out & 1 & 7181366 & 1.0025194\\\\\n",
       "\\end{tabular}\n"
      ],
      "text/markdown": [
       "\n",
       "A data.frame: 14 × 3\n",
       "\n",
       "| <!--/--> | group &lt;fct&gt; | lib.size &lt;dbl&gt; | norm.factors &lt;dbl&gt; |\n",
       "|---|---|---|---|\n",
       "| sample_4821_in | 1 | 6269533 | 1.0061400 |\n",
       "| sample_4822_in | 1 | 7012222 | 1.0073508 |\n",
       "| sample_4823_in | 1 | 7343828 | 1.0227778 |\n",
       "| sample_4831_in | 1 | 6448678 | 1.0217947 |\n",
       "| sample_4832_in | 1 | 7118852 | 0.9903188 |\n",
       "| sample_4833_in | 1 | 7091207 | 0.9469512 |\n",
       "| sample_4834_in | 1 | 7659315 | 0.9118046 |\n",
       "| sample_4821_out | 1 | 6763010 | 1.0076563 |\n",
       "| sample_4822_out | 1 | 6775492 | 1.0221313 |\n",
       "| sample_4823_out | 1 | 6981598 | 1.0184312 |\n",
       "| sample_4831_out | 1 | 6852246 | 1.0304974 |\n",
       "| sample_4832_out | 1 | 8049576 | 1.0205125 |\n",
       "| sample_4833_out | 1 | 6788623 | 0.9983957 |\n",
       "| sample_4834_out | 1 | 7181366 | 1.0025194 |\n",
       "\n"
      ],
      "text/plain": [
       "                group lib.size norm.factors\n",
       "sample_4821_in  1     6269533  1.0061400   \n",
       "sample_4822_in  1     7012222  1.0073508   \n",
       "sample_4823_in  1     7343828  1.0227778   \n",
       "sample_4831_in  1     6448678  1.0217947   \n",
       "sample_4832_in  1     7118852  0.9903188   \n",
       "sample_4833_in  1     7091207  0.9469512   \n",
       "sample_4834_in  1     7659315  0.9118046   \n",
       "sample_4821_out 1     6763010  1.0076563   \n",
       "sample_4822_out 1     6775492  1.0221313   \n",
       "sample_4823_out 1     6981598  1.0184312   \n",
       "sample_4831_out 1     6852246  1.0304974   \n",
       "sample_4832_out 1     8049576  1.0205125   \n",
       "sample_4833_out 1     6788623  0.9983957   \n",
       "sample_4834_out 1     7181366  1.0025194   "
      ]
     },
     "metadata": {},
     "output_type": "display_data"
    }
   ],
   "source": [
    "y$samples"
   ]
  },
  {
   "cell_type": "code",
   "execution_count": 156,
   "metadata": {},
   "outputs": [
    {
     "data": {
      "image/png": "[encoded data removed]",
      "text/plain": [
       "Plot with title “voom: Mean-variance trend”"
      ]
     },
     "metadata": {
      "image/png": {
       "height": 420,
       "width": 420
      }
     },
     "output_type": "display_data"
    }
   ],
   "source": [
    "v <- voom(y,design, plot=TRUE)"
   ]
  },
  {
   "cell_type": "code",
   "execution_count": 157,
   "metadata": {},
   "outputs": [],
   "source": [
    "## Fit the linear model and perform empirical Bayes smoothing"
   ]
  },
  {
   "cell_type": "code",
   "execution_count": 158,
   "metadata": {},
   "outputs": [],
   "source": [
    "fit <- lmFit(v,design)\n",
    "fit <- eBayes(fit)"
   ]
  },
  {
   "cell_type": "code",
   "execution_count": 159,
   "metadata": {},
   "outputs": [
    {
     "data": {
      "text/html": [
       "<table class=\"dataframe\">\n",
       "<caption>A matrix: 4 × 6 of type dbl</caption>\n",
       "<thead>\n",
       "\t<tr><th></th><th scope=col>ConditionAngptl7_KD3_in-ConditionAngptl7_KD3_out</th><th scope=col>ConditionAngptl7_KD3_in-ConditionNT4_in</th><th scope=col>ConditionAngptl7_KD3_in-ConditionNT4_out</th><th scope=col>ConditionAngptl7_KD3_out-ConditionNT4_in</th><th scope=col>ConditionAngptl7_KD3_out-ConditionNT4_out</th><th scope=col>ConditionNT4_in-ConditionNT4_out</th></tr>\n",
       "</thead>\n",
       "<tbody>\n",
       "\t<tr><th scope=row>ConditionAngptl7_KD3_in</th><td> 1</td><td> 1</td><td> 1</td><td> 0</td><td> 0</td><td> 0</td></tr>\n",
       "\t<tr><th scope=row>ConditionAngptl7_KD3_out</th><td>-1</td><td> 0</td><td> 0</td><td> 1</td><td> 1</td><td> 0</td></tr>\n",
       "\t<tr><th scope=row>ConditionNT4_in</th><td> 0</td><td>-1</td><td> 0</td><td>-1</td><td> 0</td><td> 1</td></tr>\n",
       "\t<tr><th scope=row>ConditionNT4_out</th><td> 0</td><td> 0</td><td>-1</td><td> 0</td><td>-1</td><td>-1</td></tr>\n",
       "</tbody>\n",
       "</table>\n"
      ],
      "text/latex": [
       "A matrix: 4 × 6 of type dbl\n",
       "\\begin{tabular}{r|llllll}\n",
       "  & ConditionAngptl7\\_KD3\\_in-ConditionAngptl7\\_KD3\\_out & ConditionAngptl7\\_KD3\\_in-ConditionNT4\\_in & ConditionAngptl7\\_KD3\\_in-ConditionNT4\\_out & ConditionAngptl7\\_KD3\\_out-ConditionNT4\\_in & ConditionAngptl7\\_KD3\\_out-ConditionNT4\\_out & ConditionNT4\\_in-ConditionNT4\\_out\\\\\n",
       "\\hline\n",
       "\tConditionAngptl7\\_KD3\\_in &  1 &  1 &  1 &  0 &  0 &  0\\\\\n",
       "\tConditionAngptl7\\_KD3\\_out & -1 &  0 &  0 &  1 &  1 &  0\\\\\n",
       "\tConditionNT4\\_in &  0 & -1 &  0 & -1 &  0 &  1\\\\\n",
       "\tConditionNT4\\_out &  0 &  0 & -1 &  0 & -1 & -1\\\\\n",
       "\\end{tabular}\n"
      ],
      "text/markdown": [
       "\n",
       "A matrix: 4 × 6 of type dbl\n",
       "\n",
       "| <!--/--> | ConditionAngptl7_KD3_in-ConditionAngptl7_KD3_out | ConditionAngptl7_KD3_in-ConditionNT4_in | ConditionAngptl7_KD3_in-ConditionNT4_out | ConditionAngptl7_KD3_out-ConditionNT4_in | ConditionAngptl7_KD3_out-ConditionNT4_out | ConditionNT4_in-ConditionNT4_out |\n",
       "|---|---|---|---|---|---|---|\n",
       "| ConditionAngptl7_KD3_in |  1 |  1 |  1 |  0 |  0 |  0 |\n",
       "| ConditionAngptl7_KD3_out | -1 |  0 |  0 |  1 |  1 |  0 |\n",
       "| ConditionNT4_in |  0 | -1 |  0 | -1 |  0 |  1 |\n",
       "| ConditionNT4_out |  0 |  0 | -1 |  0 | -1 | -1 |\n",
       "\n"
      ],
      "text/plain": [
       "                          Contrasts\n",
       "Levels                     ConditionAngptl7_KD3_in-ConditionAngptl7_KD3_out\n",
       "  ConditionAngptl7_KD3_in   1                                              \n",
       "  ConditionAngptl7_KD3_out -1                                              \n",
       "  ConditionNT4_in           0                                              \n",
       "  ConditionNT4_out          0                                              \n",
       "                          Contrasts\n",
       "Levels                     ConditionAngptl7_KD3_in-ConditionNT4_in\n",
       "  ConditionAngptl7_KD3_in   1                                     \n",
       "  ConditionAngptl7_KD3_out  0                                     \n",
       "  ConditionNT4_in          -1                                     \n",
       "  ConditionNT4_out          0                                     \n",
       "                          Contrasts\n",
       "Levels                     ConditionAngptl7_KD3_in-ConditionNT4_out\n",
       "  ConditionAngptl7_KD3_in   1                                      \n",
       "  ConditionAngptl7_KD3_out  0                                      \n",
       "  ConditionNT4_in           0                                      \n",
       "  ConditionNT4_out         -1                                      \n",
       "                          Contrasts\n",
       "Levels                     ConditionAngptl7_KD3_out-ConditionNT4_in\n",
       "  ConditionAngptl7_KD3_in   0                                      \n",
       "  ConditionAngptl7_KD3_out  1                                      \n",
       "  ConditionNT4_in          -1                                      \n",
       "  ConditionNT4_out          0                                      \n",
       "                          Contrasts\n",
       "Levels                     ConditionAngptl7_KD3_out-ConditionNT4_out\n",
       "  ConditionAngptl7_KD3_in   0                                       \n",
       "  ConditionAngptl7_KD3_out  1                                       \n",
       "  ConditionNT4_in           0                                       \n",
       "  ConditionNT4_out         -1                                       \n",
       "                          Contrasts\n",
       "Levels                     ConditionNT4_in-ConditionNT4_out\n",
       "  ConditionAngptl7_KD3_in   0                              \n",
       "  ConditionAngptl7_KD3_out  0                              \n",
       "  ConditionNT4_in           1                              \n",
       "  ConditionNT4_out         -1                              "
      ]
     },
     "metadata": {},
     "output_type": "display_data"
    }
   ],
   "source": [
    "# Get contrasts as all pairs of conditions\n",
    "conditions <- colnames(design)\n",
    "contr <- c()\n",
    "#print(conditions)\n",
    "for (i in 1:(length(conditions)-1)){\n",
    "    for (j in (i+1):length(conditions)){\n",
    "     contrast <- paste0(conditions[i], '-', conditions[j])\n",
    "        contr <- c(contr, contrast)\n",
    "    }\n",
    "}\n",
    "\n",
    "contrast.matrix <- makeContrasts(contrasts=contr, levels=design)\n",
    "contrast.matrix"
   ]
  },
  {
   "cell_type": "code",
   "execution_count": 160,
   "metadata": {},
   "outputs": [],
   "source": [
    "## Fit coefficients for contrasts"
   ]
  },
  {
   "cell_type": "code",
   "execution_count": 161,
   "metadata": {},
   "outputs": [],
   "source": [
    "fit2 <- contrasts.fit(fit, contrast.matrix)\n",
    "fit2 <- eBayes(fit2)"
   ]
  },
  {
   "cell_type": "code",
   "execution_count": 162,
   "metadata": {},
   "outputs": [],
   "source": [
    "############################################################\n",
    "# Prepare DE top tables\n",
    "############################################################"
   ]
  },
  {
   "cell_type": "code",
   "execution_count": 163,
   "metadata": {},
   "outputs": [],
   "source": [
    "## Get abundance table with more readable samples names for combining with top table"
   ]
  },
  {
   "cell_type": "code",
   "execution_count": 164,
   "metadata": {},
   "outputs": [
    {
     "data": {
      "text/html": [
       "<table class=\"dataframe\">\n",
       "<caption>A matrix: 6 × 14 of type dbl</caption>\n",
       "<thead>\n",
       "\t<tr><th></th><th scope=col>sample_4821_in</th><th scope=col>sample_4822_in</th><th scope=col>sample_4823_in</th><th scope=col>sample_4831_in</th><th scope=col>sample_4832_in</th><th scope=col>sample_4833_in</th><th scope=col>sample_4834_in</th><th scope=col>sample_4821_out</th><th scope=col>sample_4822_out</th><th scope=col>sample_4823_out</th><th scope=col>sample_4831_out</th><th scope=col>sample_4832_out</th><th scope=col>sample_4833_out</th><th scope=col>sample_4834_out</th></tr>\n",
       "</thead>\n",
       "<tbody>\n",
       "\t<tr><th scope=row>ENSMUSG00000098104</th><td>1.3872049</td><td> 0.7031239</td><td>-0.002134594</td><td> 0.6722085</td><td>0.2698532</td><td> 0.50053404</td><td> 1.4054412</td><td> 0.3187935</td><td> 0.8519497</td><td>-0.6599809</td><td>0.9349694</td><td> 0.04925596</td><td>-0.06036314</td><td>0.6756733</td></tr>\n",
       "\t<tr><th scope=row>ENSMUSG00000102175</th><td>0.5907383</td><td>-0.1199983</td><td> 0.338902324</td><td>-0.9127540</td><td>0.9372778</td><td>-0.04695375</td><td>-1.4820840</td><td>-0.9613145</td><td>-0.3324748</td><td>-1.0225510</td><td>1.2244761</td><td>-0.57877526</td><td>-0.95344793</td><td>0.4000389</td></tr>\n",
       "\t<tr><th scope=row>ENSMUSG00000103922</th><td>1.5522642</td><td> 1.3088450</td><td> 1.220257827</td><td> 1.8946009</td><td>1.6742434</td><td>-0.28796185</td><td> 0.4439154</td><td> 0.3187935</td><td> 0.2955564</td><td> 1.0280750</td><td>1.5376339</td><td> 0.91598943</td><td> 0.99408465</td><td>1.1965055</td></tr>\n",
       "\t<tr><th scope=row>ENSMUSG00000033845</th><td>5.4382078</td><td> 5.0713457</td><td> 5.312561932</td><td> 5.2827060</td><td>4.9000667</td><td> 4.65774799</td><td> 5.1414317</td><td> 5.4577428</td><td> 5.3552985</td><td> 5.4108854</td><td>5.1828970</td><td> 5.51446222</td><td> 5.41661668</td><td>5.3394635</td></tr>\n",
       "\t<tr><th scope=row>ENSMUSG00000102275</th><td>1.4720938</td><td> 0.2670248</td><td> 0.734831000</td><td> 1.1378720</td><td>1.5399423</td><td> 0.34006937</td><td> 0.5883053</td><td> 1.0893116</td><td> 1.4934958</td><td> 1.5276461</td><td>0.8239381</td><td> 0.71668062</td><td> 1.09717814</td><td>1.1063077</td></tr>\n",
       "\t<tr><th scope=row>ENSMUSG00000025903</th><td>4.7047546</td><td> 4.4879010</td><td> 4.664621998</td><td> 4.5973036</td><td>4.1991986</td><td> 4.05350643</td><td> 3.9968878</td><td> 4.6364721</td><td> 5.3192292</td><td> 4.7662838</td><td>4.9114010</td><td> 4.53544031</td><td> 4.53840516</td><td>4.2967696</td></tr>\n",
       "</tbody>\n",
       "</table>\n"
      ],
      "text/latex": [
       "A matrix: 6 × 14 of type dbl\n",
       "\\begin{tabular}{r|llllllllllllll}\n",
       "  & sample\\_4821\\_in & sample\\_4822\\_in & sample\\_4823\\_in & sample\\_4831\\_in & sample\\_4832\\_in & sample\\_4833\\_in & sample\\_4834\\_in & sample\\_4821\\_out & sample\\_4822\\_out & sample\\_4823\\_out & sample\\_4831\\_out & sample\\_4832\\_out & sample\\_4833\\_out & sample\\_4834\\_out\\\\\n",
       "\\hline\n",
       "\tENSMUSG00000098104 & 1.3872049 &  0.7031239 & -0.002134594 &  0.6722085 & 0.2698532 &  0.50053404 &  1.4054412 &  0.3187935 &  0.8519497 & -0.6599809 & 0.9349694 &  0.04925596 & -0.06036314 & 0.6756733\\\\\n",
       "\tENSMUSG00000102175 & 0.5907383 & -0.1199983 &  0.338902324 & -0.9127540 & 0.9372778 & -0.04695375 & -1.4820840 & -0.9613145 & -0.3324748 & -1.0225510 & 1.2244761 & -0.57877526 & -0.95344793 & 0.4000389\\\\\n",
       "\tENSMUSG00000103922 & 1.5522642 &  1.3088450 &  1.220257827 &  1.8946009 & 1.6742434 & -0.28796185 &  0.4439154 &  0.3187935 &  0.2955564 &  1.0280750 & 1.5376339 &  0.91598943 &  0.99408465 & 1.1965055\\\\\n",
       "\tENSMUSG00000033845 & 5.4382078 &  5.0713457 &  5.312561932 &  5.2827060 & 4.9000667 &  4.65774799 &  5.1414317 &  5.4577428 &  5.3552985 &  5.4108854 & 5.1828970 &  5.51446222 &  5.41661668 & 5.3394635\\\\\n",
       "\tENSMUSG00000102275 & 1.4720938 &  0.2670248 &  0.734831000 &  1.1378720 & 1.5399423 &  0.34006937 &  0.5883053 &  1.0893116 &  1.4934958 &  1.5276461 & 0.8239381 &  0.71668062 &  1.09717814 & 1.1063077\\\\\n",
       "\tENSMUSG00000025903 & 4.7047546 &  4.4879010 &  4.664621998 &  4.5973036 & 4.1991986 &  4.05350643 &  3.9968878 &  4.6364721 &  5.3192292 &  4.7662838 & 4.9114010 &  4.53544031 &  4.53840516 & 4.2967696\\\\\n",
       "\\end{tabular}\n"
      ],
      "text/markdown": [
       "\n",
       "A matrix: 6 × 14 of type dbl\n",
       "\n",
       "| <!--/--> | sample_4821_in | sample_4822_in | sample_4823_in | sample_4831_in | sample_4832_in | sample_4833_in | sample_4834_in | sample_4821_out | sample_4822_out | sample_4823_out | sample_4831_out | sample_4832_out | sample_4833_out | sample_4834_out |\n",
       "|---|---|---|---|---|---|---|---|---|---|---|---|---|---|---|\n",
       "| ENSMUSG00000098104 | 1.3872049 |  0.7031239 | -0.002134594 |  0.6722085 | 0.2698532 |  0.50053404 |  1.4054412 |  0.3187935 |  0.8519497 | -0.6599809 | 0.9349694 |  0.04925596 | -0.06036314 | 0.6756733 |\n",
       "| ENSMUSG00000102175 | 0.5907383 | -0.1199983 |  0.338902324 | -0.9127540 | 0.9372778 | -0.04695375 | -1.4820840 | -0.9613145 | -0.3324748 | -1.0225510 | 1.2244761 | -0.57877526 | -0.95344793 | 0.4000389 |\n",
       "| ENSMUSG00000103922 | 1.5522642 |  1.3088450 |  1.220257827 |  1.8946009 | 1.6742434 | -0.28796185 |  0.4439154 |  0.3187935 |  0.2955564 |  1.0280750 | 1.5376339 |  0.91598943 |  0.99408465 | 1.1965055 |\n",
       "| ENSMUSG00000033845 | 5.4382078 |  5.0713457 |  5.312561932 |  5.2827060 | 4.9000667 |  4.65774799 |  5.1414317 |  5.4577428 |  5.3552985 |  5.4108854 | 5.1828970 |  5.51446222 |  5.41661668 | 5.3394635 |\n",
       "| ENSMUSG00000102275 | 1.4720938 |  0.2670248 |  0.734831000 |  1.1378720 | 1.5399423 |  0.34006937 |  0.5883053 |  1.0893116 |  1.4934958 |  1.5276461 | 0.8239381 |  0.71668062 |  1.09717814 | 1.1063077 |\n",
       "| ENSMUSG00000025903 | 4.7047546 |  4.4879010 |  4.664621998 |  4.5973036 | 4.1991986 |  4.05350643 |  3.9968878 |  4.6364721 |  5.3192292 |  4.7662838 | 4.9114010 |  4.53544031 |  4.53840516 | 4.2967696 |\n",
       "\n"
      ],
      "text/plain": [
       "                   sample_4821_in sample_4822_in sample_4823_in sample_4831_in\n",
       "ENSMUSG00000098104 1.3872049       0.7031239     -0.002134594    0.6722085    \n",
       "ENSMUSG00000102175 0.5907383      -0.1199983      0.338902324   -0.9127540    \n",
       "ENSMUSG00000103922 1.5522642       1.3088450      1.220257827    1.8946009    \n",
       "ENSMUSG00000033845 5.4382078       5.0713457      5.312561932    5.2827060    \n",
       "ENSMUSG00000102275 1.4720938       0.2670248      0.734831000    1.1378720    \n",
       "ENSMUSG00000025903 4.7047546       4.4879010      4.664621998    4.5973036    \n",
       "                   sample_4832_in sample_4833_in sample_4834_in sample_4821_out\n",
       "ENSMUSG00000098104 0.2698532       0.50053404     1.4054412      0.3187935     \n",
       "ENSMUSG00000102175 0.9372778      -0.04695375    -1.4820840     -0.9613145     \n",
       "ENSMUSG00000103922 1.6742434      -0.28796185     0.4439154      0.3187935     \n",
       "ENSMUSG00000033845 4.9000667       4.65774799     5.1414317      5.4577428     \n",
       "ENSMUSG00000102275 1.5399423       0.34006937     0.5883053      1.0893116     \n",
       "ENSMUSG00000025903 4.1991986       4.05350643     3.9968878      4.6364721     \n",
       "                   sample_4822_out sample_4823_out sample_4831_out\n",
       "ENSMUSG00000098104  0.8519497      -0.6599809      0.9349694      \n",
       "ENSMUSG00000102175 -0.3324748      -1.0225510      1.2244761      \n",
       "ENSMUSG00000103922  0.2955564       1.0280750      1.5376339      \n",
       "ENSMUSG00000033845  5.3552985       5.4108854      5.1828970      \n",
       "ENSMUSG00000102275  1.4934958       1.5276461      0.8239381      \n",
       "ENSMUSG00000025903  5.3192292       4.7662838      4.9114010      \n",
       "                   sample_4832_out sample_4833_out sample_4834_out\n",
       "ENSMUSG00000098104  0.04925596     -0.06036314     0.6756733      \n",
       "ENSMUSG00000102175 -0.57877526     -0.95344793     0.4000389      \n",
       "ENSMUSG00000103922  0.91598943      0.99408465     1.1965055      \n",
       "ENSMUSG00000033845  5.51446222      5.41661668     5.3394635      \n",
       "ENSMUSG00000102275  0.71668062      1.09717814     1.1063077      \n",
       "ENSMUSG00000025903  4.53544031      4.53840516     4.2967696      "
      ]
     },
     "metadata": {},
     "output_type": "display_data"
    }
   ],
   "source": [
    "head(v$E)"
   ]
  },
  {
   "cell_type": "code",
   "execution_count": 165,
   "metadata": {},
   "outputs": [],
   "source": [
    "voom_counts <- as.data.frame(v$E)\n",
    "abundance <- 2.**(copy(voom_counts))\n",
    "abundance <- setnames(abundance, old=meta$Sample, new=meta$Label)\n",
    "abundance <- rownames_to_column(abundance, var='ensembl_gene_id')"
   ]
  },
  {
   "cell_type": "code",
   "execution_count": 166,
   "metadata": {},
   "outputs": [],
   "source": [
    "## Get RPKM and convert to TPM"
   ]
  },
  {
   "cell_type": "code",
   "execution_count": 167,
   "metadata": {},
   "outputs": [],
   "source": [
    "RPKM <- copy(rpkm(y))\n",
    "TPM <- sweep(RPKM, 2, colSums(RPKM), '/')*(1.e6)\n",
    "TPM <- setnames(as.data.frame(TPM), old=meta$Sample, new=meta$Label)\n",
    "TPM <- rownames_to_column(TPM, var='ensembl_gene_id')"
   ]
  },
  {
   "cell_type": "code",
   "execution_count": 168,
   "metadata": {},
   "outputs": [],
   "source": [
    "## Get top table with logFC and FDR"
   ]
  },
  {
   "cell_type": "code",
   "execution_count": 169,
   "metadata": {},
   "outputs": [],
   "source": [
    "## Generate empty list to store top tables in \n",
    "tt_list <- list()\n",
    "i <- 1\n",
    "for (contrast in contr){\n",
    "    top_table <- topTable(fit2, coef=contrast, number=Inf, sort.by=\"t\")\n",
    "    top_table <- rownames_to_column(top_table, var='ensembl_gene_id')\n",
    "    top_table <- left_join(top_table, gene_annot, by='ensembl_gene_id')\n",
    "    top_table <- dplyr::select(top_table, ensembl_gene_id, external_gene_name, everything())\n",
    "    tt_list[[i]] <- top_table\n",
    "    top_table_with_abundance <- left_join(top_table, abundance, by='ensembl_gene_id')\n",
    "    top_table_with_TPM <- left_join(top_table, TPM, by='ensembl_gene_id')\n",
    "    contrast_label <- str_remove_all(contrast, 'Condition')\n",
    "    \n",
    "    # Save top table (no abundance)\n",
    "    filename <- paste0('toptable_', species, '_', contrast_label, '.csv')\n",
    "    savepath <- file.path(save_dir, 'top_tables', filename)\n",
    "    write.csv(top_table, savepath, row.names=FALSE)\n",
    "    \n",
    "    # Save top table with CPM abundance\n",
    "    filename <- paste0('toptable_and_CPM_', species, '_', contrast_label, '.csv')\n",
    "    savepath <- file.path(save_dir, 'top_tables_with_CPM_abundance', filename)\n",
    "    write.csv(top_table_with_abundance, savepath, row.names=FALSE)\n",
    "    \n",
    "    # Save top table with TPM abundance\n",
    "    filename <- paste0('toptable_and_TPM_', species, '_', contrast_label, '.csv')\n",
    "    savepath <- file.path(save_dir, 'top_tables_with_TPM_abundance', filename)\n",
    "    write.csv(top_table_with_TPM, savepath, row.names=FALSE)\n",
    "   \n",
    "    i <- i + 1\n",
    "}"
   ]
  },
  {
   "cell_type": "code",
   "execution_count": 170,
   "metadata": {},
   "outputs": [],
   "source": [
    "################################################\n",
    "# Prepare a table that combines all DE results\n",
    "################################################"
   ]
  },
  {
   "cell_type": "code",
   "execution_count": 171,
   "metadata": {},
   "outputs": [],
   "source": [
    "# replace contrasts with more readable labels"
   ]
  },
  {
   "cell_type": "code",
   "execution_count": 172,
   "metadata": {},
   "outputs": [],
   "source": [
    "contr_label = str_remove_all(contr, 'Condition')\n",
    "contr_label = paste0('_', contr_label)"
   ]
  },
  {
   "cell_type": "code",
   "execution_count": 173,
   "metadata": {},
   "outputs": [],
   "source": [
    "# Join the tables"
   ]
  },
  {
   "cell_type": "code",
   "execution_count": 174,
   "metadata": {},
   "outputs": [],
   "source": [
    "top_table_all <- tt_list[[1]]\n",
    "for (i in 1:(length(contr_label)-1)){\n",
    "    if (i < length(contr_label) -1){ \n",
    "        top_table_all <- left_join(top_table_all, tt_list[[i+1]], \n",
    "                           by=c('ensembl_gene_id', 'external_gene_name', 'Length'), \n",
    "                           suffix = c(contr_label[i], ''))\n",
    "        } else{\n",
    "            top_table_all <- left_join(top_table_all, tt_list[[i+1]], \n",
    "                               by=c('ensembl_gene_id', 'external_gene_name', 'Length'), \n",
    "                               suffix = c(contr_label[i], contr_label[i+1]))\n",
    "        } \n",
    "            \n",
    "    \n",
    "}\n",
    "top_table_all_CPM <- left_join(top_table_all, abundance, by='ensembl_gene_id')\n",
    "top_table_all_TPM <- left_join(top_table_all, TPM, by='ensembl_gene_id')\n"
   ]
  },
  {
   "cell_type": "code",
   "execution_count": 175,
   "metadata": {},
   "outputs": [],
   "source": [
    "# Save the top tables"
   ]
  },
  {
   "cell_type": "code",
   "execution_count": 176,
   "metadata": {},
   "outputs": [],
   "source": [
    "filename <- paste0('top_table_all_comparisons_',species, '.csv')\n",
    "savepath <- file.path(save_dir, 'top_tables', filename)\n",
    "write.csv(top_table_all, savepath, row.names=FALSE)"
   ]
  },
  {
   "cell_type": "code",
   "execution_count": 177,
   "metadata": {},
   "outputs": [],
   "source": [
    "filename <- paste0('top_table_all_comparisons_', species, 'CPM.csv')\n",
    "savepath <- file.path(save_dir, 'top_tables_with_CPM_abundance', filename)\n",
    "write.csv(top_table_all_CPM, savepath, row.names=FALSE)"
   ]
  },
  {
   "cell_type": "code",
   "execution_count": 178,
   "metadata": {},
   "outputs": [],
   "source": [
    "filename <- paste0('top_table_all_comparisons_', species,'TPM.csv')\n",
    "savepath <- file.path(save_dir, 'top_tables_with_TPM_abundance', filename)\n",
    "write.csv(top_table_all_TPM, savepath, row.names=FALSE)"
   ]
  },
  {
   "cell_type": "code",
   "execution_count": 179,
   "metadata": {},
   "outputs": [],
   "source": [
    "##################################\n",
    "## Create tidy TPM and counts\n",
    "#################################"
   ]
  },
  {
   "cell_type": "code",
   "execution_count": 180,
   "metadata": {},
   "outputs": [],
   "source": [
    "## Cast the TPM table into tidy format and add sample info"
   ]
  },
  {
   "cell_type": "code",
   "execution_count": 181,
   "metadata": {},
   "outputs": [],
   "source": [
    "RPKM <- copy(rpkm(y))\n",
    "TPM2 <- sweep(RPKM, 2, colSums(RPKM), '/')*(1.e6)\n",
    "TPM2 <- rownames_to_column(as.data.frame(TPM2), var='ensembl_gene_id')"
   ]
  },
  {
   "cell_type": "code",
   "execution_count": 182,
   "metadata": {},
   "outputs": [],
   "source": [
    "TPM.tidy <- pivot_longer(TPM2, -ensembl_gene_id, names_to='Sample', values_to='TPM')\n",
    "TPM.tidy <- left_join(TPM.tidy, meta, by='Sample')\n",
    "TPM.tidy <- left_join(TPM.tidy, gene_annot, by='ensembl_gene_id')\n",
    "TPM.tidy <- dplyr::select(TPM.tidy, ensembl_gene_id, external_gene_name, colnames(meta), everything())"
   ]
  },
  {
   "cell_type": "code",
   "execution_count": 183,
   "metadata": {},
   "outputs": [],
   "source": [
    "filename <- paste0('TPM_', species, '.csv')\n",
    "savefile <- file.path(save_dir, 'tidy_abundance_tables', filename)\n",
    "write.csv(TPM.tidy, savefile)"
   ]
  },
  {
   "cell_type": "code",
   "execution_count": 184,
   "metadata": {},
   "outputs": [],
   "source": [
    "## Get the voom normalized counts per million"
   ]
  },
  {
   "cell_type": "code",
   "execution_count": 204,
   "metadata": {},
   "outputs": [],
   "source": [
    "voom_cpm <- v$E\n",
    "voom_cpm2 <- 2**voom_cpm\n",
    "voom_cpm3 <- rownames_to_column(as.data.frame(voom_cpm2), var='ensembl_gene_id')\n",
    "voom_cpm_tidy <- pivot_longer(voom_cpm3, -ensembl_gene_id, names_to='Sample', values_to='CPM')\n",
    "voom_cpm_tidy <- left_join(voom_cpm_tidy, meta, by='Sample')\n",
    "voom_cpm_tidy <- left_join(voom_cpm_tidy, gene_annot, by='ensembl_gene_id')\n",
    "voom_cpm_tidy <- dplyr::select(voom_cpm_tidy, ensembl_gene_id, external_gene_name, colnames(meta), everything())\n",
    "filename <- paste0('cpm_voom_tidy_',species, '.csv')\n",
    "voom_cpm_save_file <- file.path(save_dir, 'tidy_abundance_tables', filename)\n",
    "write.csv(voom_cpm_tidy, voom_cpm_save_file, row.names=FALSE)"
   ]
  },
  {
   "cell_type": "code",
   "execution_count": 205,
   "metadata": {},
   "outputs": [],
   "source": [
    "## Get tidy raw counts`"
   ]
  },
  {
   "cell_type": "code",
   "execution_count": 206,
   "metadata": {},
   "outputs": [],
   "source": [
    "counts2 <- rownames_to_column(counts, var='ensembl_gene_id')\n",
    "genes <- gene_annot['ensembl_gene_id']\n",
    "counts2 <- dplyr::filter(counts2, ensembl_gene_id %in% gene_annot$ensembl_gene_id)\n",
    "counts.tidy <- pivot_longer(counts2, -ensembl_gene_id, names_to='Sample', values_to='Counts')\n",
    "counts.tidy <- left_join(counts.tidy, meta, by='Sample')\n",
    "counts.tidy <- left_join(counts.tidy, gene_annot, by='ensembl_gene_id')\n",
    "counts.tidy <- dplyr::select(counts.tidy, ensembl_gene_id, external_gene_name, colnames(meta), everything())"
   ]
  },
  {
   "cell_type": "code",
   "execution_count": 207,
   "metadata": {},
   "outputs": [],
   "source": [
    "filename <- paste0('Unfiltered_counts_tidy_', species, '.csv')\n",
    "counts_save_file <- file.path(save_dir, 'tidy_abundance_tables', filename)\n",
    "write.csv(counts.tidy, counts_save_file, row.names=FALSE)"
   ]
  },
  {
   "cell_type": "code",
   "execution_count": 208,
   "metadata": {},
   "outputs": [],
   "source": [
    "## Merge "
   ]
  },
  {
   "cell_type": "code",
   "execution_count": 214,
   "metadata": {},
   "outputs": [],
   "source": [
    "TPM_counts_tidy <- left_join(TPM.tidy, counts.tidy, by=append(c('ensembl_gene_id', 'external_gene_name'),colnames(meta)))"
   ]
  },
  {
   "cell_type": "code",
   "execution_count": 215,
   "metadata": {},
   "outputs": [],
   "source": [
    "TPM_cpm_tidy <- left_join(TPM.tidy, voom_cpm_tidy, by=append(c('ensembl_gene_id', 'external_gene_name'),colnames(meta)))"
   ]
  },
  {
   "cell_type": "code",
   "execution_count": 216,
   "metadata": {},
   "outputs": [],
   "source": [
    "setnamesTPM_counts_cpm <- left_join(TPM_cpm_tidy, counts.tidy, by=append(c('ensembl_gene_id', 'external_gene_name'),colnames(meta)))\n",
    "TPM_counts_cpm <- dplyr::select(TPM_counts_cpm, ensembl_gene_id, external_gene_name, colnames(meta), everything())"
   ]
  },
  {
   "cell_type": "code",
   "execution_count": 217,
   "metadata": {},
   "outputs": [],
   "source": [
    "filename <- paste0('TPM_CPM_counts_', species, '.csv')\n",
    "tpm_cpm_cts_save_file <- file.path(save_dir, 'tidy_abundance_tables', filename)\n",
    "write.csv(TPM_counts_cpm, tpm_cpm_cts_save_file, row.names=FALSE)"
   ]
  },
  {
   "cell_type": "code",
   "execution_count": null,
   "metadata": {},
   "outputs": [],
   "source": []
  }
 ],
 "metadata": {
  "kernelspec": {
   "display_name": "R",
   "language": "R",
   "name": "ir"
  },
  "language_info": {
   "codemirror_mode": "r",
   "file_extension": ".r",
   "mimetype": "text/x-r-source",
   "name": "R",
   "pygments_lexer": "r",
   "version": "4.1.1"
  }
 },
 "nbformat": 4,
 "nbformat_minor": 4
}
