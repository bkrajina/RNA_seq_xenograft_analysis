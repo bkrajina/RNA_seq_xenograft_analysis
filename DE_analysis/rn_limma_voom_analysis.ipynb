{
 "cells": [
  {
   "cell_type": "code",
   "execution_count": 2,
   "metadata": {},
   "outputs": [
    {
     "name": "stderr",
     "output_type": "stream",
     "text": [
      "\n",
      "Attaching package: ‘dplyr’\n",
      "\n",
      "\n",
      "The following objects are masked from ‘package:data.table’:\n",
      "\n",
      "    between, first, last\n",
      "\n",
      "\n",
      "The following objects are masked from ‘package:stats’:\n",
      "\n",
      "    filter, lag\n",
      "\n",
      "\n",
      "The following objects are masked from ‘package:base’:\n",
      "\n",
      "    intersect, setdiff, setequal, union\n",
      "\n",
      "\n"
     ]
    }
   ],
   "source": [
    "library(data.table)\n",
    "library(limma)\n",
    "library(dplyr)\n",
    "library(edgeR)\n",
    "library(tibble)\n",
    "library(biomaRt)\n",
    "library(tidyr)\n",
    "library(stringr)\n"
   ]
  },
  {
   "cell_type": "code",
   "execution_count": 3,
   "metadata": {},
   "outputs": [],
   "source": [
    "## Import gene names"
   ]
  },
  {
   "cell_type": "code",
   "execution_count": 4,
   "metadata": {},
   "outputs": [],
   "source": [
    "ensembl = useEnsembl(biomart=\"ensembl\", dataset=\"rnorvegicus_gene_ensembl\", version=100)"
   ]
  },
  {
   "cell_type": "code",
   "execution_count": 5,
   "metadata": {},
   "outputs": [],
   "source": [
    "gene_annot <- getBM(mart=ensembl, attributes=c('ensembl_gene_id', 'external_gene_name'))"
   ]
  },
  {
   "cell_type": "code",
   "execution_count": 6,
   "metadata": {},
   "outputs": [],
   "source": [
    "# Set up I/O"
   ]
  },
  {
   "cell_type": "code",
   "execution_count": 7,
   "metadata": {},
   "outputs": [],
   "source": [
    "base_dir <- \"../\"\n",
    "species <- 'rn'\n",
    "save_dir <- file.path(base_dir, 'DE_and_abundance')\n",
    "meta_path <- file.path(base_dir, \"meta_data\", \"meta_data.csv\")\n",
    "counts_path <- file.path(base_dir, \"feature_counts\", paste0(\"trimmed_gene_counts_\", species, '.csv'))\n",
    "annot_path <- file.path(base_dir, \"feature_counts\", paste0(\"trimmed_FC_gene_annot_\", species, '.csv'))"
   ]
  },
  {
   "cell_type": "code",
   "execution_count": 8,
   "metadata": {},
   "outputs": [],
   "source": [
    "# Read in counts, annotations, and meta data "
   ]
  },
  {
   "cell_type": "code",
   "execution_count": 9,
   "metadata": {},
   "outputs": [
    {
     "name": "stderr",
     "output_type": "stream",
     "text": [
      "Warning message in file(file, \"rt\"):\n",
      "“cannot open file '..//feature_counts/trimmed_FC_gene_annot_rn.csv': No such file or directory”\n"
     ]
    },
    {
     "ename": "ERROR",
     "evalue": "Error in file(file, \"rt\"): cannot open the connection\n",
     "output_type": "error",
     "traceback": [
      "Error in file(file, \"rt\"): cannot open the connection\nTraceback:\n",
      "1. read.csv(annot_path, row.names = 1)",
      "2. read.table(file = file, header = header, sep = sep, quote = quote, \n .     dec = dec, fill = fill, comment.char = comment.char, ...)",
      "3. file(file, \"rt\")"
     ]
    }
   ],
   "source": [
    "FC_annot <- read.csv(annot_path, row.names=1)\n",
    "## Select only gene id and length. Note that dplyr will drop row names upon select\n",
    "## but edgeR expects gene id in row names, so convert gene_id to column, then back, \n",
    "## to row names after selecting\n",
    "FC_annot <- rownames_to_column(FC_annot, var='gene_id')\n",
    "FC_annot <- dplyr::select(FC_annot, 'gene_id', 'Length')\n",
    "FC_annot <- column_to_rownames(FC_annot, var='gene_id')"
   ]
  },
  {
   "cell_type": "code",
   "execution_count": null,
   "metadata": {},
   "outputs": [],
   "source": [
    "meta <- read.csv(meta_path)"
   ]
  },
  {
   "cell_type": "code",
   "execution_count": null,
   "metadata": {},
   "outputs": [],
   "source": [
    "counts <- read.csv(counts_path, row.names=1)"
   ]
  },
  {
   "cell_type": "code",
   "execution_count": null,
   "metadata": {},
   "outputs": [],
   "source": [
    "## Change meta sample names to be acceptable variable names"
   ]
  },
  {
   "cell_type": "code",
   "execution_count": null,
   "metadata": {},
   "outputs": [],
   "source": [
    "meta$RatID <- factor(meta$RatID)"
   ]
  },
  {
   "cell_type": "code",
   "execution_count": null,
   "metadata": {},
   "outputs": [],
   "source": [
    "## Take counts for only samples in meta table"
   ]
  },
  {
   "cell_type": "code",
   "execution_count": null,
   "metadata": {},
   "outputs": [],
   "source": [
    "counts <- dplyr::select(counts, meta$Sample)"
   ]
  },
  {
   "cell_type": "code",
   "execution_count": null,
   "metadata": {},
   "outputs": [],
   "source": [
    "## Get differential gene expression list for use in limma"
   ]
  },
  {
   "cell_type": "code",
   "execution_count": null,
   "metadata": {},
   "outputs": [],
   "source": [
    "y <- DGEList(counts, genes=FC_annot)"
   ]
  },
  {
   "cell_type": "code",
   "execution_count": null,
   "metadata": {},
   "outputs": [],
   "source": [
    "## Define the linear model and get the design matrix"
   ]
  },
  {
   "cell_type": "code",
   "execution_count": null,
   "metadata": {},
   "outputs": [],
   "source": [
    "design <- model.matrix(~ 0 + Condition, data=meta)"
   ]
  },
  {
   "cell_type": "code",
   "execution_count": null,
   "metadata": {},
   "outputs": [],
   "source": [
    "## Filter the data to remove low expressed genes"
   ]
  },
  {
   "cell_type": "code",
   "execution_count": null,
   "metadata": {},
   "outputs": [],
   "source": [
    "keep <- filterByExpr(y, design, min.count=10, min.total.count=15)\n",
    "y <- y[keep, keep.lib.sizes=FALSE]"
   ]
  },
  {
   "cell_type": "code",
   "execution_count": null,
   "metadata": {},
   "outputs": [],
   "source": [
    "## Calculate library normalization factors "
   ]
  },
  {
   "cell_type": "code",
   "execution_count": null,
   "metadata": {},
   "outputs": [],
   "source": [
    "y <- calcNormFactors(y)"
   ]
  },
  {
   "cell_type": "code",
   "execution_count": null,
   "metadata": {},
   "outputs": [],
   "source": [
    "v <- voom(y,design, plot=TRUE)"
   ]
  },
  {
   "cell_type": "code",
   "execution_count": null,
   "metadata": {},
   "outputs": [],
   "source": [
    "## Fit the linear model and perform empirical Bayes smoothing"
   ]
  },
  {
   "cell_type": "code",
   "execution_count": null,
   "metadata": {},
   "outputs": [],
   "source": [
    "fit <- lmFit(v,design)\n",
    "fit <- eBayes(fit)"
   ]
  },
  {
   "cell_type": "code",
   "execution_count": null,
   "metadata": {},
   "outputs": [],
   "source": [
    "# Get contrasts as all pairs of conditions\n",
    "conditions <- colnames(design)\n",
    "contr <- c()\n",
    "#print(conditions)\n",
    "for (i in 1:(length(conditions)-1)){\n",
    "    for (j in (i+1):length(conditions)){\n",
    "     contrast <- paste0(conditions[i], '-', conditions[j])\n",
    "        contr <- c(contr, contrast)\n",
    "    }\n",
    "}\n",
    "\n",
    "contrast.matrix <- makeContrasts(contrasts=contr, levels=design)"
   ]
  },
  {
   "cell_type": "code",
   "execution_count": 26,
   "metadata": {},
   "outputs": [],
   "source": [
    "## Fit coefficients for contrasts"
   ]
  },
  {
   "cell_type": "code",
   "execution_count": 27,
   "metadata": {},
   "outputs": [],
   "source": [
    "fit2 <- contrasts.fit(fit, contrast.matrix)\n",
    "fit2 <- eBayes(fit2)"
   ]
  },
  {
   "cell_type": "code",
   "execution_count": 28,
   "metadata": {},
   "outputs": [],
   "source": [
    "############################################################\n",
    "# Prepare DE top tables\n",
    "############################################################"
   ]
  },
  {
   "cell_type": "code",
   "execution_count": 29,
   "metadata": {},
   "outputs": [],
   "source": [
    "## Get abundance table with more readable samples names for combining with top table"
   ]
  },
  {
   "cell_type": "code",
   "execution_count": 31,
   "metadata": {},
   "outputs": [],
   "source": [
    "voom_counts <- as.data.frame(v$E)\n",
    "abundance <- 2.**(copy(voom_counts))\n",
    "abundance <- setnames(abundance, old=meta$Sample, new=meta$Label)\n",
    "abundance <- rownames_to_column(abundance, var='ensembl_gene_id')"
   ]
  },
  {
   "cell_type": "code",
   "execution_count": 32,
   "metadata": {},
   "outputs": [],
   "source": [
    "## Get RPKM and convert to TPM"
   ]
  },
  {
   "cell_type": "code",
   "execution_count": 33,
   "metadata": {},
   "outputs": [],
   "source": [
    "RPKM <- copy(rpkm(y))\n",
    "TPM <- sweep(RPKM, 2, colSums(RPKM), '/')*(1.e6)\n",
    "TPM <- setnames(as.data.frame(TPM), old=meta$Sample, new=meta$Label)\n",
    "TPM <- rownames_to_column(TPM, var='ensembl_gene_id')"
   ]
  },
  {
   "cell_type": "code",
   "execution_count": 34,
   "metadata": {},
   "outputs": [],
   "source": [
    "## Get top table with logFC and FDR"
   ]
  },
  {
   "cell_type": "code",
   "execution_count": 35,
   "metadata": {},
   "outputs": [],
   "source": [
    "## Generate empty list to store top tables in \n",
    "tt_list <- list()\n",
    "i <- 1\n",
    "for (contrast in contr){\n",
    "    top_table <- topTable(fit2, coef=contrast, number=Inf, sort.by=\"t\")\n",
    "    top_table <- rownames_to_column(top_table, var='ensembl_gene_id')\n",
    "    top_table <- left_join(top_table, gene_annot, by='ensembl_gene_id')\n",
    "    top_table <- dplyr::select(top_table, ensembl_gene_id, external_gene_name, everything())\n",
    "    tt_list[[i]] <- top_table\n",
    "    top_table_with_abundance <- left_join(top_table, abundance, by='ensembl_gene_id')\n",
    "    top_table_with_TPM <- left_join(top_table, TPM, by='ensembl_gene_id')\n",
    "    contrast_label <- str_remove_all(contrast, 'Condition')\n",
    "    \n",
    "    # Save top table (no abundance)\n",
    "    filename <- paste0('toptable_', species, '_', contrast_label, '.csv')\n",
    "    savepath <- file.path(save_dir, 'top_tables', filename)\n",
    "    write.csv(top_table, savepath, row.names=FALSE)\n",
    "    \n",
    "    # Save top table with CPM abundance\n",
    "    filename <- paste0('toptable_and_CPM_', species, '_', contrast_label, '.csv')\n",
    "    savepath <- file.path(save_dir, 'top_tables_with_CPM_abundance', filename)\n",
    "    write.csv(top_table_with_abundance, savepath, row.names=FALSE)\n",
    "    \n",
    "    # Save top table with CPM abundance\n",
    "    filename <- paste0('toptable_and_TPM_', species, '_', contrast_label, '.csv')\n",
    "    savepath <- file.path(save_dir, 'top_tables_with_TPM_abundance', filename)\n",
    "    write.csv(top_table_with_TPM, savepath, row.names=FALSE)\n",
    "   \n",
    "    i <- i + 1\n",
    "}"
   ]
  },
  {
   "cell_type": "code",
   "execution_count": 36,
   "metadata": {},
   "outputs": [],
   "source": [
    "################################################\n",
    "# Prepare a table that combines all DE results\n",
    "################################################"
   ]
  },
  {
   "cell_type": "code",
   "execution_count": 37,
   "metadata": {},
   "outputs": [],
   "source": [
    "# replace contrasts with more readable labels"
   ]
  },
  {
   "cell_type": "code",
   "execution_count": 38,
   "metadata": {},
   "outputs": [],
   "source": [
    "contr_label = str_remove_all(contr, 'Condition')\n",
    "contr_label = paste0('_', contr_label)"
   ]
  },
  {
   "cell_type": "code",
   "execution_count": 39,
   "metadata": {},
   "outputs": [],
   "source": [
    "# Join the tables"
   ]
  },
  {
   "cell_type": "code",
   "execution_count": 40,
   "metadata": {},
   "outputs": [],
   "source": [
    "top_table_all <- tt_list[[1]]\n",
    "for (i in 1:(length(contr_label)-1)){\n",
    "    if (i < length(contr_label) -1){ \n",
    "        top_table_all <- left_join(top_table_all, tt_list[[i+1]], \n",
    "                           by=c('ensembl_gene_id', 'external_gene_name', 'Length'), \n",
    "                           suffix = c(contr_label[i], ''))\n",
    "        } else{\n",
    "            top_table_all <- left_join(top_table_all, tt_list[[i+1]], \n",
    "                               by=c('ensembl_gene_id', 'external_gene_name', 'Length'), \n",
    "                               suffix = c(contr_label[i], contr_label[i+1]))\n",
    "        } \n",
    "            \n",
    "    \n",
    "}\n",
    "top_table_all_CPM <- left_join(top_table_all, abundance, by='ensembl_gene_id')\n",
    "top_table_all_TPM <- left_join(top_table_all, TPM, by='ensembl_gene_id')\n"
   ]
  },
  {
   "cell_type": "code",
   "execution_count": 41,
   "metadata": {},
   "outputs": [],
   "source": [
    "# Save the top tables"
   ]
  },
  {
   "cell_type": "code",
   "execution_count": 42,
   "metadata": {},
   "outputs": [],
   "source": [
    "filename <- paste0('top_table_all_comparisons_',species, '.csv')\n",
    "savepath <- file.path(save_dir, 'top_tables', filename)\n",
    "write.csv(top_table_all, savepath, row.names=FALSE)"
   ]
  },
  {
   "cell_type": "code",
   "execution_count": 43,
   "metadata": {},
   "outputs": [],
   "source": [
    "filename <- paste0('top_table_all_comparisons_', species, 'CPM.csv')\n",
    "savepath <- file.path(save_dir, 'top_tables_with_CPM_abundance', filename)\n",
    "write.csv(top_table_all_CPM, savepath, row.names=FALSE)"
   ]
  },
  {
   "cell_type": "code",
   "execution_count": 44,
   "metadata": {},
   "outputs": [],
   "source": [
    "filename <- paste0('top_table_all_comparisons_', species,'TPM.csv')\n",
    "savepath <- file.path(save_dir, 'top_tables_with_TPM_abundance', filename)\n",
    "write.csv(top_table_all_TPM, savepath, row.names=FALSE)"
   ]
  },
  {
   "cell_type": "code",
   "execution_count": 45,
   "metadata": {},
   "outputs": [],
   "source": [
    "##################################\n",
    "## Create tidy TPM and counts\n",
    "#################################"
   ]
  },
  {
   "cell_type": "code",
   "execution_count": 46,
   "metadata": {},
   "outputs": [],
   "source": [
    "## Cast the TPM table into tidy format and add sample info"
   ]
  },
  {
   "cell_type": "code",
   "execution_count": 47,
   "metadata": {},
   "outputs": [],
   "source": [
    "RPKM <- copy(rpkm(y))\n",
    "TPM2 <- sweep(RPKM, 2, colSums(RPKM), '/')*(1.e6)\n",
    "TPM2 <- rownames_to_column(as.data.frame(TPM2), var='ensembl_gene_id')"
   ]
  },
  {
   "cell_type": "code",
   "execution_count": 48,
   "metadata": {},
   "outputs": [],
   "source": [
    "TPM.tidy <- pivot_longer(TPM2, -ensembl_gene_id, names_to='Sample', values_to='TPM')\n",
    "TPM.tidy <- left_join(TPM.tidy, meta, by='Sample')\n",
    "TPM.tidy <- left_join(TPM.tidy, gene_annot, by='ensembl_gene_id')\n",
    "TPM.tidy <- dplyr::select(TPM.tidy, ensembl_gene_id, external_gene_name, colnames(meta), everything())"
   ]
  },
  {
   "cell_type": "code",
   "execution_count": 49,
   "metadata": {},
   "outputs": [],
   "source": [
    "filename <- paste0('TPM_', species, '.csv')\n",
    "savefile <- file.path(save_dir, 'tidy_abundance_tables', filename)\n",
    "write.csv(TPM.tidy, savefile)"
   ]
  },
  {
   "cell_type": "code",
   "execution_count": 50,
   "metadata": {},
   "outputs": [],
   "source": [
    "## Get the voom normalized counts per million"
   ]
  },
  {
   "cell_type": "code",
   "execution_count": 51,
   "metadata": {},
   "outputs": [],
   "source": [
    "voom_cpm <- v$E\n",
    "voom_cpm2 <- 2**voom_cpm\n",
    "voom_cpm3 <- rownames_to_column(as.data.frame(voom_cpm2), var='ensembl_gene_id')\n",
    "voom_cpm_tidy <- pivot_longer(voom_cpm3, -ensembl_gene_id, names_to='Sample', values_to='CPM')\n",
    "voom_cpm_tidy <- left_join(voom_cpm_tidy, meta, by='Sample')\n",
    "voom_cpm_tidy <- left_join(voom_cpm_tidy, gene_annot, by='ensembl_gene_id')\n",
    "voom_cpm_tidy <- dplyr::select(voom_cpm_tidy, ensembl_gene_id, external_gene_name, colnames(meta), everything())\n",
    "filename <- paste0('cpm_voom_tidy_',species, '.csv')\n",
    "voom_cpm_save_file <- file.path(save_dir, 'tidy_abundance_tables', filename)\n",
    "write.csv(voom_cpm_tidy, voom_cpm_save_file, row.names=FALSE)"
   ]
  },
  {
   "cell_type": "code",
   "execution_count": 52,
   "metadata": {},
   "outputs": [],
   "source": [
    "## Get tidy raw counts`"
   ]
  },
  {
   "cell_type": "code",
   "execution_count": 53,
   "metadata": {},
   "outputs": [],
   "source": [
    "counts2 <- rownames_to_column(counts, var='ensembl_gene_id')\n",
    "genes <- gene_annot['ensembl_gene_id']\n",
    "counts2 <- dplyr::filter(counts2, ensembl_gene_id %in% gene_annot$ensembl_gene_id)\n",
    "counts.tidy <- pivot_longer(counts2, -ensembl_gene_id, names_to='Sample', values_to='Counts')\n",
    "counts.tidy <- left_join(counts.tidy, meta, by='Sample')\n",
    "counts.tidy <- left_join(counts.tidy, gene_annot, by='ensembl_gene_id')\n",
    "counts.tidy <- dplyr::select(counts.tidy, ensembl_gene_id, external_gene_name, colnames(meta), everything())"
   ]
  },
  {
   "cell_type": "code",
   "execution_count": 54,
   "metadata": {},
   "outputs": [],
   "source": [
    "filename <- paste0('Unfiltered_counts_tidy_', species, '.csv')\n",
    "counts_save_file <- file.path(save_dir, 'tidy_abundance_tables', filename)\n",
    "write.csv(counts.tidy, counts_save_file, row.names=FALSE)"
   ]
  },
  {
   "cell_type": "code",
   "execution_count": 55,
   "metadata": {},
   "outputs": [],
   "source": [
    "## Merge "
   ]
  },
  {
   "cell_type": "code",
   "execution_count": 56,
   "metadata": {},
   "outputs": [],
   "source": [
    "TPM_counts_tidy <- left_join(TPM.tidy, counts.tidy, by=append(c('ensembl_gene_id', 'external_gene_name'),colnames(meta)))"
   ]
  },
  {
   "cell_type": "code",
   "execution_count": 57,
   "metadata": {},
   "outputs": [],
   "source": [
    "TPM_cpm_tidy <- left_join(TPM.tidy, voom_cpm_tidy, by=append(c('ensembl_gene_id', 'external_gene_name'),colnames(meta)))"
   ]
  },
  {
   "cell_type": "code",
   "execution_count": 58,
   "metadata": {},
   "outputs": [],
   "source": [
    "TPM_counts_cpm <- left_join(TPM_cpm_tidy, counts.tidy, by=append(c('ensembl_gene_id', 'external_gene_name'),colnames(meta)))\n",
    "TPM_counts_cpm <- dplyr::select(TPM_counts_cpm, ensembl_gene_id, external_gene_name, colnames(meta), everything())"
   ]
  },
  {
   "cell_type": "code",
   "execution_count": 59,
   "metadata": {},
   "outputs": [],
   "source": [
    "filename <- paste0('TPM_CPM_counts_', species, '.csv')\n",
    "tpm_cpm_cts_save_file <- file.path(save_dir, 'tidy_abundance_tables', filename)\n",
    "write.csv(TPM_counts_cpm, tpm_cpm_cts_save_file, row.names=FALSE)"
   ]
  },
  {
   "cell_type": "code",
   "execution_count": null,
   "metadata": {},
   "outputs": [],
   "source": []
  }
 ],
 "metadata": {
  "kernelspec": {
   "display_name": "R",
   "language": "R",
   "name": "ir"
  },
  "language_info": {
   "codemirror_mode": "r",
   "file_extension": ".r",
   "mimetype": "text/x-r-source",
   "name": "R",
   "pygments_lexer": "r",
   "version": "4.1.1"
  }
 },
 "nbformat": 4,
 "nbformat_minor": 4
}
