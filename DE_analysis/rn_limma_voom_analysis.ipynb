{
 "cells": [
  {
   "cell_type": "code",
   "execution_count": 1,
   "metadata": {},
   "outputs": [
    {
     "name": "stderr",
     "output_type": "stream",
     "text": [
      "\n",
      "Attaching package: ‘dplyr’\n",
      "\n",
      "\n",
      "The following objects are masked from ‘package:data.table’:\n",
      "\n",
      "    between, first, last\n",
      "\n",
      "\n",
      "The following objects are masked from ‘package:stats’:\n",
      "\n",
      "    filter, lag\n",
      "\n",
      "\n",
      "The following objects are masked from ‘package:base’:\n",
      "\n",
      "    intersect, setdiff, setequal, union\n",
      "\n",
      "\n"
     ]
    }
   ],
   "source": [
    "library(data.table)\n",
    "library(limma)\n",
    "library(dplyr)\n",
    "library(edgeR)\n",
    "library(tibble)\n",
    "library(biomaRt)\n",
    "library(tidyr)\n",
    "library(stringr)\n"
   ]
  },
  {
   "cell_type": "code",
   "execution_count": 2,
   "metadata": {},
   "outputs": [],
   "source": [
    "## Import gene names"
   ]
  },
  {
   "cell_type": "code",
   "execution_count": 3,
   "metadata": {},
   "outputs": [],
   "source": [
    "ensembl = useEnsembl(biomart=\"ensembl\", dataset=\"rnorvegicus_gene_ensembl\", version=100)"
   ]
  },
  {
   "cell_type": "code",
   "execution_count": 4,
   "metadata": {},
   "outputs": [],
   "source": [
    "gene_annot <- getBM(mart=ensembl, attributes=c('ensembl_gene_id', 'external_gene_name'))"
   ]
  },
  {
   "cell_type": "code",
   "execution_count": 5,
   "metadata": {},
   "outputs": [],
   "source": [
    "base_dir <- \"../\"\n",
    "species <- 'rn'\n",
    "save_dir <- file.path(base_dir, 'DE_and_abundance')\n",
    "meta_path <- file.path(base_dir, \"meta_data\", \"meta_data.csv\")\n",
    "counts_path <- file.path(base_dir, \"feature_counts\", paste0(\"trimmed_gene_counts_\", species, '.csv'))\n",
    "annot_path <- file.path(base_dir, \"feature_counts\", paste0(\"trimmed_FC_gene_annot_\", species, '.csv'))"
   ]
  },
  {
   "cell_type": "code",
   "execution_count": 6,
   "metadata": {},
   "outputs": [],
   "source": [
    "FC_annot <- read.csv(annot_path, row.names=1)\n",
    "## Select only gene id and length. Note that dplyr will drop row names upon select\n",
    "## but edgeR expects gene id in row names, so convert gene_id to column, then back, \n",
    "## to row names after selecting\n",
    "FC_annot <- rownames_to_column(FC_annot, var='gene_id')\n",
    "FC_annot <- dplyr::select(FC_annot, 'gene_id', 'Length')\n",
    "FC_annot <- column_to_rownames(FC_annot, var='gene_id')"
   ]
  },
  {
   "cell_type": "code",
   "execution_count": 7,
   "metadata": {},
   "outputs": [],
   "source": [
    "meta <- read.csv(meta_path)"
   ]
  },
  {
   "cell_type": "code",
   "execution_count": 8,
   "metadata": {},
   "outputs": [],
   "source": [
    "counts <- read.csv(counts_path, row.names=1)"
   ]
  },
  {
   "cell_type": "code",
   "execution_count": 9,
   "metadata": {},
   "outputs": [],
   "source": [
    "## Change meta sample names to be acceptable variable names"
   ]
  },
  {
   "cell_type": "code",
   "execution_count": 10,
   "metadata": {},
   "outputs": [],
   "source": [
    "meta$RatID <- factor(meta$RatID)"
   ]
  },
  {
   "cell_type": "code",
   "execution_count": 11,
   "metadata": {},
   "outputs": [],
   "source": [
    "## Take counts in the filtered sample list "
   ]
  },
  {
   "cell_type": "code",
   "execution_count": 12,
   "metadata": {},
   "outputs": [],
   "source": [
    "counts <- dplyr::select(counts, meta$Sample)"
   ]
  },
  {
   "cell_type": "code",
   "execution_count": 13,
   "metadata": {},
   "outputs": [],
   "source": [
    "## Get differential gene expression list for use in limma"
   ]
  },
  {
   "cell_type": "code",
   "execution_count": 14,
   "metadata": {},
   "outputs": [],
   "source": [
    "y <- DGEList(counts, genes=FC_annot)"
   ]
  },
  {
   "cell_type": "code",
   "execution_count": 15,
   "metadata": {},
   "outputs": [],
   "source": [
    "## Define the linear model and get the design matrix"
   ]
  },
  {
   "cell_type": "code",
   "execution_count": 16,
   "metadata": {},
   "outputs": [],
   "source": [
    "design <- model.matrix(~ 0 + Condition, data=meta)"
   ]
  },
  {
   "cell_type": "code",
   "execution_count": 17,
   "metadata": {},
   "outputs": [],
   "source": [
    "## Filter the data to remove low expressed genes"
   ]
  },
  {
   "cell_type": "code",
   "execution_count": 18,
   "metadata": {},
   "outputs": [],
   "source": [
    "keep <- filterByExpr(y, design, min.count=10, min.total.count=15)\n",
    "y <- y[keep, keep.lib.sizes=FALSE]"
   ]
  },
  {
   "cell_type": "code",
   "execution_count": 19,
   "metadata": {},
   "outputs": [],
   "source": [
    "## Calculate library normalization factors "
   ]
  },
  {
   "cell_type": "code",
   "execution_count": 20,
   "metadata": {},
   "outputs": [],
   "source": [
    "y <- calcNormFactors(y)"
   ]
  },
  {
   "cell_type": "code",
   "execution_count": 21,
   "metadata": {},
   "outputs": [
    {
     "data": {
      "text/html": [
       "<table class=\"dataframe\">\n",
       "<caption>A data.frame: 14 × 3</caption>\n",
       "<thead>\n",
       "\t<tr><th></th><th scope=col>group</th><th scope=col>lib.size</th><th scope=col>norm.factors</th></tr>\n",
       "\t<tr><th></th><th scope=col>&lt;fct&gt;</th><th scope=col>&lt;dbl&gt;</th><th scope=col>&lt;dbl&gt;</th></tr>\n",
       "</thead>\n",
       "<tbody>\n",
       "\t<tr><th scope=row>sample_4821_in</th><td>1</td><td>1485191</td><td>1.0218358</td></tr>\n",
       "\t<tr><th scope=row>sample_4822_in</th><td>1</td><td>1051776</td><td>1.0369153</td></tr>\n",
       "\t<tr><th scope=row>sample_4823_in</th><td>1</td><td>1625907</td><td>1.0288750</td></tr>\n",
       "\t<tr><th scope=row>sample_4831_in</th><td>1</td><td>2035788</td><td>1.0267511</td></tr>\n",
       "\t<tr><th scope=row>sample_4832_in</th><td>1</td><td>1094028</td><td>0.9782528</td></tr>\n",
       "\t<tr><th scope=row>sample_4833_in</th><td>1</td><td> 937998</td><td>0.9325996</td></tr>\n",
       "\t<tr><th scope=row>sample_4834_in</th><td>1</td><td>1288408</td><td>0.9080201</td></tr>\n",
       "\t<tr><th scope=row>sample_4821_out</th><td>1</td><td>2290222</td><td>1.0127684</td></tr>\n",
       "\t<tr><th scope=row>sample_4822_out</th><td>1</td><td>1900786</td><td>1.0234092</td></tr>\n",
       "\t<tr><th scope=row>sample_4823_out</th><td>1</td><td>3238913</td><td>0.9914867</td></tr>\n",
       "\t<tr><th scope=row>sample_4831_out</th><td>1</td><td>1763804</td><td>1.0071632</td></tr>\n",
       "\t<tr><th scope=row>sample_4832_out</th><td>1</td><td>2287400</td><td>1.0145650</td></tr>\n",
       "\t<tr><th scope=row>sample_4833_out</th><td>1</td><td>1933753</td><td>1.0054349</td></tr>\n",
       "\t<tr><th scope=row>sample_4834_out</th><td>1</td><td>2125958</td><td>1.0214709</td></tr>\n",
       "</tbody>\n",
       "</table>\n"
      ],
      "text/latex": [
       "A data.frame: 14 × 3\n",
       "\\begin{tabular}{r|lll}\n",
       "  & group & lib.size & norm.factors\\\\\n",
       "  & <fct> & <dbl> & <dbl>\\\\\n",
       "\\hline\n",
       "\tsample\\_4821\\_in & 1 & 1485191 & 1.0218358\\\\\n",
       "\tsample\\_4822\\_in & 1 & 1051776 & 1.0369153\\\\\n",
       "\tsample\\_4823\\_in & 1 & 1625907 & 1.0288750\\\\\n",
       "\tsample\\_4831\\_in & 1 & 2035788 & 1.0267511\\\\\n",
       "\tsample\\_4832\\_in & 1 & 1094028 & 0.9782528\\\\\n",
       "\tsample\\_4833\\_in & 1 &  937998 & 0.9325996\\\\\n",
       "\tsample\\_4834\\_in & 1 & 1288408 & 0.9080201\\\\\n",
       "\tsample\\_4821\\_out & 1 & 2290222 & 1.0127684\\\\\n",
       "\tsample\\_4822\\_out & 1 & 1900786 & 1.0234092\\\\\n",
       "\tsample\\_4823\\_out & 1 & 3238913 & 0.9914867\\\\\n",
       "\tsample\\_4831\\_out & 1 & 1763804 & 1.0071632\\\\\n",
       "\tsample\\_4832\\_out & 1 & 2287400 & 1.0145650\\\\\n",
       "\tsample\\_4833\\_out & 1 & 1933753 & 1.0054349\\\\\n",
       "\tsample\\_4834\\_out & 1 & 2125958 & 1.0214709\\\\\n",
       "\\end{tabular}\n"
      ],
      "text/markdown": [
       "\n",
       "A data.frame: 14 × 3\n",
       "\n",
       "| <!--/--> | group &lt;fct&gt; | lib.size &lt;dbl&gt; | norm.factors &lt;dbl&gt; |\n",
       "|---|---|---|---|\n",
       "| sample_4821_in | 1 | 1485191 | 1.0218358 |\n",
       "| sample_4822_in | 1 | 1051776 | 1.0369153 |\n",
       "| sample_4823_in | 1 | 1625907 | 1.0288750 |\n",
       "| sample_4831_in | 1 | 2035788 | 1.0267511 |\n",
       "| sample_4832_in | 1 | 1094028 | 0.9782528 |\n",
       "| sample_4833_in | 1 |  937998 | 0.9325996 |\n",
       "| sample_4834_in | 1 | 1288408 | 0.9080201 |\n",
       "| sample_4821_out | 1 | 2290222 | 1.0127684 |\n",
       "| sample_4822_out | 1 | 1900786 | 1.0234092 |\n",
       "| sample_4823_out | 1 | 3238913 | 0.9914867 |\n",
       "| sample_4831_out | 1 | 1763804 | 1.0071632 |\n",
       "| sample_4832_out | 1 | 2287400 | 1.0145650 |\n",
       "| sample_4833_out | 1 | 1933753 | 1.0054349 |\n",
       "| sample_4834_out | 1 | 2125958 | 1.0214709 |\n",
       "\n"
      ],
      "text/plain": [
       "                group lib.size norm.factors\n",
       "sample_4821_in  1     1485191  1.0218358   \n",
       "sample_4822_in  1     1051776  1.0369153   \n",
       "sample_4823_in  1     1625907  1.0288750   \n",
       "sample_4831_in  1     2035788  1.0267511   \n",
       "sample_4832_in  1     1094028  0.9782528   \n",
       "sample_4833_in  1      937998  0.9325996   \n",
       "sample_4834_in  1     1288408  0.9080201   \n",
       "sample_4821_out 1     2290222  1.0127684   \n",
       "sample_4822_out 1     1900786  1.0234092   \n",
       "sample_4823_out 1     3238913  0.9914867   \n",
       "sample_4831_out 1     1763804  1.0071632   \n",
       "sample_4832_out 1     2287400  1.0145650   \n",
       "sample_4833_out 1     1933753  1.0054349   \n",
       "sample_4834_out 1     2125958  1.0214709   "
      ]
     },
     "metadata": {},
     "output_type": "display_data"
    }
   ],
   "source": [
    "y$samples"
   ]
  },
  {
   "cell_type": "code",
   "execution_count": 22,
   "metadata": {},
   "outputs": [
    {
     "data": {
      "image/png": "[encoded data removed]",
      "text/plain": [
       "Plot with title “voom: Mean-variance trend”"
      ]
     },
     "metadata": {
      "image/png": {
       "height": 420,
       "width": 420
      }
     },
     "output_type": "display_data"
    }
   ],
   "source": [
    "v <- voom(y,design, plot=TRUE)"
   ]
  },
  {
   "cell_type": "code",
   "execution_count": 23,
   "metadata": {},
   "outputs": [],
   "source": [
    "## Fit the linear model and perform empirical Bayes smoothing"
   ]
  },
  {
   "cell_type": "code",
   "execution_count": 24,
   "metadata": {},
   "outputs": [],
   "source": [
    "fit <- lmFit(v,design)\n",
    "fit <- eBayes(fit)"
   ]
  },
  {
   "cell_type": "code",
   "execution_count": 25,
   "metadata": {},
   "outputs": [
    {
     "data": {
      "text/html": [
       "<table class=\"dataframe\">\n",
       "<caption>A matrix: 4 × 6 of type dbl</caption>\n",
       "<thead>\n",
       "\t<tr><th></th><th scope=col>ConditionAngptl7_KD3_in-ConditionAngptl7_KD3_out</th><th scope=col>ConditionAngptl7_KD3_in-ConditionNT4_in</th><th scope=col>ConditionAngptl7_KD3_in-ConditionNT4_out</th><th scope=col>ConditionAngptl7_KD3_out-ConditionNT4_in</th><th scope=col>ConditionAngptl7_KD3_out-ConditionNT4_out</th><th scope=col>ConditionNT4_in-ConditionNT4_out</th></tr>\n",
       "</thead>\n",
       "<tbody>\n",
       "\t<tr><th scope=row>ConditionAngptl7_KD3_in</th><td> 1</td><td> 1</td><td> 1</td><td> 0</td><td> 0</td><td> 0</td></tr>\n",
       "\t<tr><th scope=row>ConditionAngptl7_KD3_out</th><td>-1</td><td> 0</td><td> 0</td><td> 1</td><td> 1</td><td> 0</td></tr>\n",
       "\t<tr><th scope=row>ConditionNT4_in</th><td> 0</td><td>-1</td><td> 0</td><td>-1</td><td> 0</td><td> 1</td></tr>\n",
       "\t<tr><th scope=row>ConditionNT4_out</th><td> 0</td><td> 0</td><td>-1</td><td> 0</td><td>-1</td><td>-1</td></tr>\n",
       "</tbody>\n",
       "</table>\n"
      ],
      "text/latex": [
       "A matrix: 4 × 6 of type dbl\n",
       "\\begin{tabular}{r|llllll}\n",
       "  & ConditionAngptl7\\_KD3\\_in-ConditionAngptl7\\_KD3\\_out & ConditionAngptl7\\_KD3\\_in-ConditionNT4\\_in & ConditionAngptl7\\_KD3\\_in-ConditionNT4\\_out & ConditionAngptl7\\_KD3\\_out-ConditionNT4\\_in & ConditionAngptl7\\_KD3\\_out-ConditionNT4\\_out & ConditionNT4\\_in-ConditionNT4\\_out\\\\\n",
       "\\hline\n",
       "\tConditionAngptl7\\_KD3\\_in &  1 &  1 &  1 &  0 &  0 &  0\\\\\n",
       "\tConditionAngptl7\\_KD3\\_out & -1 &  0 &  0 &  1 &  1 &  0\\\\\n",
       "\tConditionNT4\\_in &  0 & -1 &  0 & -1 &  0 &  1\\\\\n",
       "\tConditionNT4\\_out &  0 &  0 & -1 &  0 & -1 & -1\\\\\n",
       "\\end{tabular}\n"
      ],
      "text/markdown": [
       "\n",
       "A matrix: 4 × 6 of type dbl\n",
       "\n",
       "| <!--/--> | ConditionAngptl7_KD3_in-ConditionAngptl7_KD3_out | ConditionAngptl7_KD3_in-ConditionNT4_in | ConditionAngptl7_KD3_in-ConditionNT4_out | ConditionAngptl7_KD3_out-ConditionNT4_in | ConditionAngptl7_KD3_out-ConditionNT4_out | ConditionNT4_in-ConditionNT4_out |\n",
       "|---|---|---|---|---|---|---|\n",
       "| ConditionAngptl7_KD3_in |  1 |  1 |  1 |  0 |  0 |  0 |\n",
       "| ConditionAngptl7_KD3_out | -1 |  0 |  0 |  1 |  1 |  0 |\n",
       "| ConditionNT4_in |  0 | -1 |  0 | -1 |  0 |  1 |\n",
       "| ConditionNT4_out |  0 |  0 | -1 |  0 | -1 | -1 |\n",
       "\n"
      ],
      "text/plain": [
       "                          Contrasts\n",
       "Levels                     ConditionAngptl7_KD3_in-ConditionAngptl7_KD3_out\n",
       "  ConditionAngptl7_KD3_in   1                                              \n",
       "  ConditionAngptl7_KD3_out -1                                              \n",
       "  ConditionNT4_in           0                                              \n",
       "  ConditionNT4_out          0                                              \n",
       "                          Contrasts\n",
       "Levels                     ConditionAngptl7_KD3_in-ConditionNT4_in\n",
       "  ConditionAngptl7_KD3_in   1                                     \n",
       "  ConditionAngptl7_KD3_out  0                                     \n",
       "  ConditionNT4_in          -1                                     \n",
       "  ConditionNT4_out          0                                     \n",
       "                          Contrasts\n",
       "Levels                     ConditionAngptl7_KD3_in-ConditionNT4_out\n",
       "  ConditionAngptl7_KD3_in   1                                      \n",
       "  ConditionAngptl7_KD3_out  0                                      \n",
       "  ConditionNT4_in           0                                      \n",
       "  ConditionNT4_out         -1                                      \n",
       "                          Contrasts\n",
       "Levels                     ConditionAngptl7_KD3_out-ConditionNT4_in\n",
       "  ConditionAngptl7_KD3_in   0                                      \n",
       "  ConditionAngptl7_KD3_out  1                                      \n",
       "  ConditionNT4_in          -1                                      \n",
       "  ConditionNT4_out          0                                      \n",
       "                          Contrasts\n",
       "Levels                     ConditionAngptl7_KD3_out-ConditionNT4_out\n",
       "  ConditionAngptl7_KD3_in   0                                       \n",
       "  ConditionAngptl7_KD3_out  1                                       \n",
       "  ConditionNT4_in           0                                       \n",
       "  ConditionNT4_out         -1                                       \n",
       "                          Contrasts\n",
       "Levels                     ConditionNT4_in-ConditionNT4_out\n",
       "  ConditionAngptl7_KD3_in   0                              \n",
       "  ConditionAngptl7_KD3_out  0                              \n",
       "  ConditionNT4_in           1                              \n",
       "  ConditionNT4_out         -1                              "
      ]
     },
     "metadata": {},
     "output_type": "display_data"
    }
   ],
   "source": [
    "# Get contrasts as all pairs of conditions\n",
    "conditions <- colnames(design)\n",
    "contr <- c()\n",
    "#print(conditions)\n",
    "for (i in 1:(length(conditions)-1)){\n",
    "    for (j in (i+1):length(conditions)){\n",
    "     contrast <- paste0(conditions[i], '-', conditions[j])\n",
    "        contr <- c(contr, contrast)\n",
    "    }\n",
    "}\n",
    "\n",
    "contrast.matrix <- makeContrasts(contrasts=contr, levels=design)\n",
    "contrast.matrix"
   ]
  },
  {
   "cell_type": "code",
   "execution_count": 26,
   "metadata": {},
   "outputs": [],
   "source": [
    "## Fit coefficients for contrasts"
   ]
  },
  {
   "cell_type": "code",
   "execution_count": 27,
   "metadata": {},
   "outputs": [],
   "source": [
    "fit2 <- contrasts.fit(fit, contrast.matrix)\n",
    "fit2 <- eBayes(fit2)"
   ]
  },
  {
   "cell_type": "code",
   "execution_count": 28,
   "metadata": {},
   "outputs": [],
   "source": [
    "############################################################\n",
    "# Prepare DE top tables\n",
    "############################################################"
   ]
  },
  {
   "cell_type": "code",
   "execution_count": 29,
   "metadata": {},
   "outputs": [],
   "source": [
    "## Get abundance table with more readable samples names for combining with top table"
   ]
  },
  {
   "cell_type": "code",
   "execution_count": 30,
   "metadata": {},
   "outputs": [
    {
     "data": {
      "text/html": [
       "<table class=\"dataframe\">\n",
       "<caption>A matrix: 6 × 14 of type dbl</caption>\n",
       "<thead>\n",
       "\t<tr><th></th><th scope=col>sample_4821_in</th><th scope=col>sample_4822_in</th><th scope=col>sample_4823_in</th><th scope=col>sample_4831_in</th><th scope=col>sample_4832_in</th><th scope=col>sample_4833_in</th><th scope=col>sample_4834_in</th><th scope=col>sample_4821_out</th><th scope=col>sample_4822_out</th><th scope=col>sample_4823_out</th><th scope=col>sample_4831_out</th><th scope=col>sample_4832_out</th><th scope=col>sample_4833_out</th><th scope=col>sample_4834_out</th></tr>\n",
       "</thead>\n",
       "<tbody>\n",
       "\t<tr><th scope=row>ENSRNOG00000061316</th><td>6.469650</td><td>6.467330</td><td>6.296606</td><td>6.332930</td><td>6.353281</td><td>5.961196</td><td>6.191466</td><td>6.544431</td><td>6.436625</td><td>6.325253</td><td>6.567616</td><td>6.381619</td><td>6.101472</td><td>6.336565</td></tr>\n",
       "\t<tr><th scope=row>ENSRNOG00000014303</th><td>3.442581</td><td>3.267191</td><td>3.115668</td><td>3.664246</td><td>3.149997</td><td>1.514940</td><td>3.021541</td><td>3.894732</td><td>3.712445</td><td>4.328052</td><td>3.528564</td><td>4.355285</td><td>4.344557</td><td>4.148025</td></tr>\n",
       "\t<tr><th scope=row>ENSRNOG00000014330</th><td>4.464276</td><td>4.757516</td><td>4.796845</td><td>4.506181</td><td>5.010594</td><td>4.237406</td><td>4.446038</td><td>4.631698</td><td>4.781487</td><td>4.476696</td><td>4.885257</td><td>4.324588</td><td>4.670133</td><td>4.622705</td></tr>\n",
       "\t<tr><th scope=row>ENSRNOG00000049505</th><td>4.126108</td><td>4.232425</td><td>4.090577</td><td>3.551035</td><td>3.760051</td><td>3.947899</td><td>1.943538</td><td>3.716945</td><td>4.189767</td><td>2.931534</td><td>3.597276</td><td>3.277283</td><td>3.326178</td><td>3.609159</td></tr>\n",
       "\t<tr><th scope=row>ENSRNOG00000014916</th><td>7.149731</td><td>7.262890</td><td>7.254866</td><td>7.026438</td><td>7.046728</td><td>6.914111</td><td>6.721980</td><td>7.123829</td><td>7.386534</td><td>7.151296</td><td>7.435454</td><td>7.196940</td><td>7.333098</td><td>7.107650</td></tr>\n",
       "\t<tr><th scope=row>ENSRNOG00000014996</th><td>3.683589</td><td>4.004156</td><td>3.211883</td><td>3.490914</td><td>3.856266</td><td>3.836868</td><td>3.983066</td><td>3.340796</td><td>3.767940</td><td>3.824619</td><td>3.597276</td><td>4.160469</td><td>4.344557</td><td>3.858518</td></tr>\n",
       "</tbody>\n",
       "</table>\n"
      ],
      "text/latex": [
       "A matrix: 6 × 14 of type dbl\n",
       "\\begin{tabular}{r|llllllllllllll}\n",
       "  & sample\\_4821\\_in & sample\\_4822\\_in & sample\\_4823\\_in & sample\\_4831\\_in & sample\\_4832\\_in & sample\\_4833\\_in & sample\\_4834\\_in & sample\\_4821\\_out & sample\\_4822\\_out & sample\\_4823\\_out & sample\\_4831\\_out & sample\\_4832\\_out & sample\\_4833\\_out & sample\\_4834\\_out\\\\\n",
       "\\hline\n",
       "\tENSRNOG00000061316 & 6.469650 & 6.467330 & 6.296606 & 6.332930 & 6.353281 & 5.961196 & 6.191466 & 6.544431 & 6.436625 & 6.325253 & 6.567616 & 6.381619 & 6.101472 & 6.336565\\\\\n",
       "\tENSRNOG00000014303 & 3.442581 & 3.267191 & 3.115668 & 3.664246 & 3.149997 & 1.514940 & 3.021541 & 3.894732 & 3.712445 & 4.328052 & 3.528564 & 4.355285 & 4.344557 & 4.148025\\\\\n",
       "\tENSRNOG00000014330 & 4.464276 & 4.757516 & 4.796845 & 4.506181 & 5.010594 & 4.237406 & 4.446038 & 4.631698 & 4.781487 & 4.476696 & 4.885257 & 4.324588 & 4.670133 & 4.622705\\\\\n",
       "\tENSRNOG00000049505 & 4.126108 & 4.232425 & 4.090577 & 3.551035 & 3.760051 & 3.947899 & 1.943538 & 3.716945 & 4.189767 & 2.931534 & 3.597276 & 3.277283 & 3.326178 & 3.609159\\\\\n",
       "\tENSRNOG00000014916 & 7.149731 & 7.262890 & 7.254866 & 7.026438 & 7.046728 & 6.914111 & 6.721980 & 7.123829 & 7.386534 & 7.151296 & 7.435454 & 7.196940 & 7.333098 & 7.107650\\\\\n",
       "\tENSRNOG00000014996 & 3.683589 & 4.004156 & 3.211883 & 3.490914 & 3.856266 & 3.836868 & 3.983066 & 3.340796 & 3.767940 & 3.824619 & 3.597276 & 4.160469 & 4.344557 & 3.858518\\\\\n",
       "\\end{tabular}\n"
      ],
      "text/markdown": [
       "\n",
       "A matrix: 6 × 14 of type dbl\n",
       "\n",
       "| <!--/--> | sample_4821_in | sample_4822_in | sample_4823_in | sample_4831_in | sample_4832_in | sample_4833_in | sample_4834_in | sample_4821_out | sample_4822_out | sample_4823_out | sample_4831_out | sample_4832_out | sample_4833_out | sample_4834_out |\n",
       "|---|---|---|---|---|---|---|---|---|---|---|---|---|---|---|\n",
       "| ENSRNOG00000061316 | 6.469650 | 6.467330 | 6.296606 | 6.332930 | 6.353281 | 5.961196 | 6.191466 | 6.544431 | 6.436625 | 6.325253 | 6.567616 | 6.381619 | 6.101472 | 6.336565 |\n",
       "| ENSRNOG00000014303 | 3.442581 | 3.267191 | 3.115668 | 3.664246 | 3.149997 | 1.514940 | 3.021541 | 3.894732 | 3.712445 | 4.328052 | 3.528564 | 4.355285 | 4.344557 | 4.148025 |\n",
       "| ENSRNOG00000014330 | 4.464276 | 4.757516 | 4.796845 | 4.506181 | 5.010594 | 4.237406 | 4.446038 | 4.631698 | 4.781487 | 4.476696 | 4.885257 | 4.324588 | 4.670133 | 4.622705 |\n",
       "| ENSRNOG00000049505 | 4.126108 | 4.232425 | 4.090577 | 3.551035 | 3.760051 | 3.947899 | 1.943538 | 3.716945 | 4.189767 | 2.931534 | 3.597276 | 3.277283 | 3.326178 | 3.609159 |\n",
       "| ENSRNOG00000014916 | 7.149731 | 7.262890 | 7.254866 | 7.026438 | 7.046728 | 6.914111 | 6.721980 | 7.123829 | 7.386534 | 7.151296 | 7.435454 | 7.196940 | 7.333098 | 7.107650 |\n",
       "| ENSRNOG00000014996 | 3.683589 | 4.004156 | 3.211883 | 3.490914 | 3.856266 | 3.836868 | 3.983066 | 3.340796 | 3.767940 | 3.824619 | 3.597276 | 4.160469 | 4.344557 | 3.858518 |\n",
       "\n"
      ],
      "text/plain": [
       "                   sample_4821_in sample_4822_in sample_4823_in sample_4831_in\n",
       "ENSRNOG00000061316 6.469650       6.467330       6.296606       6.332930      \n",
       "ENSRNOG00000014303 3.442581       3.267191       3.115668       3.664246      \n",
       "ENSRNOG00000014330 4.464276       4.757516       4.796845       4.506181      \n",
       "ENSRNOG00000049505 4.126108       4.232425       4.090577       3.551035      \n",
       "ENSRNOG00000014916 7.149731       7.262890       7.254866       7.026438      \n",
       "ENSRNOG00000014996 3.683589       4.004156       3.211883       3.490914      \n",
       "                   sample_4832_in sample_4833_in sample_4834_in sample_4821_out\n",
       "ENSRNOG00000061316 6.353281       5.961196       6.191466       6.544431       \n",
       "ENSRNOG00000014303 3.149997       1.514940       3.021541       3.894732       \n",
       "ENSRNOG00000014330 5.010594       4.237406       4.446038       4.631698       \n",
       "ENSRNOG00000049505 3.760051       3.947899       1.943538       3.716945       \n",
       "ENSRNOG00000014916 7.046728       6.914111       6.721980       7.123829       \n",
       "ENSRNOG00000014996 3.856266       3.836868       3.983066       3.340796       \n",
       "                   sample_4822_out sample_4823_out sample_4831_out\n",
       "ENSRNOG00000061316 6.436625        6.325253        6.567616       \n",
       "ENSRNOG00000014303 3.712445        4.328052        3.528564       \n",
       "ENSRNOG00000014330 4.781487        4.476696        4.885257       \n",
       "ENSRNOG00000049505 4.189767        2.931534        3.597276       \n",
       "ENSRNOG00000014916 7.386534        7.151296        7.435454       \n",
       "ENSRNOG00000014996 3.767940        3.824619        3.597276       \n",
       "                   sample_4832_out sample_4833_out sample_4834_out\n",
       "ENSRNOG00000061316 6.381619        6.101472        6.336565       \n",
       "ENSRNOG00000014303 4.355285        4.344557        4.148025       \n",
       "ENSRNOG00000014330 4.324588        4.670133        4.622705       \n",
       "ENSRNOG00000049505 3.277283        3.326178        3.609159       \n",
       "ENSRNOG00000014916 7.196940        7.333098        7.107650       \n",
       "ENSRNOG00000014996 4.160469        4.344557        3.858518       "
      ]
     },
     "metadata": {},
     "output_type": "display_data"
    }
   ],
   "source": [
    "head(v$E)"
   ]
  },
  {
   "cell_type": "code",
   "execution_count": 31,
   "metadata": {},
   "outputs": [],
   "source": [
    "voom_counts <- as.data.frame(v$E)\n",
    "abundance <- 2.**(copy(voom_counts))\n",
    "abundance <- setnames(abundance, old=meta$Sample, new=meta$Label)\n",
    "abundance <- rownames_to_column(abundance, var='ensembl_gene_id')"
   ]
  },
  {
   "cell_type": "code",
   "execution_count": 32,
   "metadata": {},
   "outputs": [],
   "source": [
    "## Get RPKM and convert to TPM"
   ]
  },
  {
   "cell_type": "code",
   "execution_count": 33,
   "metadata": {},
   "outputs": [],
   "source": [
    "RPKM <- copy(rpkm(y))\n",
    "TPM <- sweep(RPKM, 2, colSums(RPKM), '/')*(1.e6)\n",
    "TPM <- setnames(as.data.frame(TPM), old=meta$Sample, new=meta$Label)\n",
    "TPM <- rownames_to_column(TPM, var='ensembl_gene_id')"
   ]
  },
  {
   "cell_type": "code",
   "execution_count": 34,
   "metadata": {},
   "outputs": [],
   "source": [
    "## Get top table with logFC and FDR"
   ]
  },
  {
   "cell_type": "code",
   "execution_count": 35,
   "metadata": {},
   "outputs": [],
   "source": [
    "## Generate empty list to store top tables in \n",
    "tt_list <- list()\n",
    "i <- 1\n",
    "for (contrast in contr){\n",
    "    top_table <- topTable(fit2, coef=contrast, number=Inf, sort.by=\"t\")\n",
    "    top_table <- rownames_to_column(top_table, var='ensembl_gene_id')\n",
    "    top_table <- left_join(top_table, gene_annot, by='ensembl_gene_id')\n",
    "    top_table <- dplyr::select(top_table, ensembl_gene_id, external_gene_name, everything())\n",
    "    tt_list[[i]] <- top_table\n",
    "    top_table_with_abundance <- left_join(top_table, abundance, by='ensembl_gene_id')\n",
    "    top_table_with_TPM <- left_join(top_table, TPM, by='ensembl_gene_id')\n",
    "    contrast_label <- str_remove_all(contrast, 'Condition')\n",
    "    \n",
    "    # Save top table (no abundance)\n",
    "    filename <- paste0('toptable_', species, '_', contrast_label, '.csv')\n",
    "    savepath <- file.path(save_dir, 'top_tables', filename)\n",
    "    write.csv(top_table, savepath, row.names=FALSE)\n",
    "    \n",
    "    # Save top table with CPM abundance\n",
    "    filename <- paste0('toptable_and_CPM_', species, '_', contrast_label, '.csv')\n",
    "    savepath <- file.path(save_dir, 'top_tables_with_CPM_abundance', filename)\n",
    "    write.csv(top_table_with_abundance, savepath, row.names=FALSE)\n",
    "    \n",
    "    # Save top table with CPM abundance\n",
    "    filename <- paste0('toptable_and_TPM_', species, '_', contrast_label, '.csv')\n",
    "    savepath <- file.path(save_dir, 'top_tables_with_TPM_abundance', filename)\n",
    "    write.csv(top_table_with_TPM, savepath, row.names=FALSE)\n",
    "   \n",
    "    i <- i + 1\n",
    "}"
   ]
  },
  {
   "cell_type": "code",
   "execution_count": 36,
   "metadata": {},
   "outputs": [],
   "source": [
    "################################################\n",
    "# Prepare a table that combines all DE results\n",
    "################################################"
   ]
  },
  {
   "cell_type": "code",
   "execution_count": 37,
   "metadata": {},
   "outputs": [],
   "source": [
    "# replace contrasts with more readable labels"
   ]
  },
  {
   "cell_type": "code",
   "execution_count": 38,
   "metadata": {},
   "outputs": [],
   "source": [
    "contr_label = str_remove_all(contr, 'Condition')\n",
    "contr_label = paste0('_', contr_label)"
   ]
  },
  {
   "cell_type": "code",
   "execution_count": 39,
   "metadata": {},
   "outputs": [],
   "source": [
    "# Join the tables"
   ]
  },
  {
   "cell_type": "code",
   "execution_count": 40,
   "metadata": {},
   "outputs": [],
   "source": [
    "top_table_all <- tt_list[[1]]\n",
    "for (i in 1:(length(contr_label)-1)){\n",
    "    if (i < length(contr_label) -1){ \n",
    "        top_table_all <- left_join(top_table_all, tt_list[[i+1]], \n",
    "                           by=c('ensembl_gene_id', 'external_gene_name', 'Length'), \n",
    "                           suffix = c(contr_label[i], ''))\n",
    "        } else{\n",
    "            top_table_all <- left_join(top_table_all, tt_list[[i+1]], \n",
    "                               by=c('ensembl_gene_id', 'external_gene_name', 'Length'), \n",
    "                               suffix = c(contr_label[i], contr_label[i+1]))\n",
    "        } \n",
    "            \n",
    "    \n",
    "}\n",
    "top_table_all_CPM <- left_join(top_table_all, abundance, by='ensembl_gene_id')\n",
    "top_table_all_TPM <- left_join(top_table_all, TPM, by='ensembl_gene_id')\n"
   ]
  },
  {
   "cell_type": "code",
   "execution_count": 41,
   "metadata": {},
   "outputs": [],
   "source": [
    "# Save the top tables"
   ]
  },
  {
   "cell_type": "code",
   "execution_count": 42,
   "metadata": {},
   "outputs": [],
   "source": [
    "filename <- paste0('top_table_all_comparisons_',species, '.csv')\n",
    "savepath <- file.path(save_dir, 'top_tables', filename)\n",
    "write.csv(top_table_all, savepath, row.names=FALSE)"
   ]
  },
  {
   "cell_type": "code",
   "execution_count": 43,
   "metadata": {},
   "outputs": [],
   "source": [
    "filename <- paste0('top_table_all_comparisons_', species, 'CPM.csv')\n",
    "savepath <- file.path(save_dir, 'top_tables_with_CPM_abundance', filename)\n",
    "write.csv(top_table_all_CPM, savepath, row.names=FALSE)"
   ]
  },
  {
   "cell_type": "code",
   "execution_count": 44,
   "metadata": {},
   "outputs": [],
   "source": [
    "filename <- paste0('top_table_all_comparisons_', species,'TPM.csv')\n",
    "savepath <- file.path(save_dir, 'top_tables_with_TPM_abundance', filename)\n",
    "write.csv(top_table_all_TPM, savepath, row.names=FALSE)"
   ]
  },
  {
   "cell_type": "code",
   "execution_count": 45,
   "metadata": {},
   "outputs": [],
   "source": [
    "##################################\n",
    "## Create tidy TPM and counts\n",
    "#################################"
   ]
  },
  {
   "cell_type": "code",
   "execution_count": 46,
   "metadata": {},
   "outputs": [],
   "source": [
    "## Cast the TPM table into tidy format and add sample info"
   ]
  },
  {
   "cell_type": "code",
   "execution_count": 47,
   "metadata": {},
   "outputs": [],
   "source": [
    "RPKM <- copy(rpkm(y))\n",
    "TPM2 <- sweep(RPKM, 2, colSums(RPKM), '/')*(1.e6)\n",
    "TPM2 <- rownames_to_column(as.data.frame(TPM2), var='ensembl_gene_id')"
   ]
  },
  {
   "cell_type": "code",
   "execution_count": 48,
   "metadata": {},
   "outputs": [],
   "source": [
    "TPM.tidy <- pivot_longer(TPM2, -ensembl_gene_id, names_to='Sample', values_to='TPM')\n",
    "TPM.tidy <- left_join(TPM.tidy, meta, by='Sample')\n",
    "TPM.tidy <- left_join(TPM.tidy, gene_annot, by='ensembl_gene_id')\n",
    "TPM.tidy <- dplyr::select(TPM.tidy, ensembl_gene_id, external_gene_name, colnames(meta), everything())"
   ]
  },
  {
   "cell_type": "code",
   "execution_count": 49,
   "metadata": {},
   "outputs": [],
   "source": [
    "filename <- paste0('TPM_', species, '.csv')\n",
    "savefile <- file.path(save_dir, 'tidy_abundance_tables', filename)\n",
    "write.csv(TPM.tidy, savefile)"
   ]
  },
  {
   "cell_type": "code",
   "execution_count": 50,
   "metadata": {},
   "outputs": [],
   "source": [
    "## Get the voom normalized counts per million"
   ]
  },
  {
   "cell_type": "code",
   "execution_count": 51,
   "metadata": {},
   "outputs": [],
   "source": [
    "voom_cpm <- v$E\n",
    "voom_cpm2 <- 2**voom_cpm\n",
    "voom_cpm3 <- rownames_to_column(as.data.frame(voom_cpm2), var='ensembl_gene_id')\n",
    "voom_cpm_tidy <- pivot_longer(voom_cpm3, -ensembl_gene_id, names_to='Sample', values_to='CPM')\n",
    "voom_cpm_tidy <- left_join(voom_cpm_tidy, meta, by='Sample')\n",
    "voom_cpm_tidy <- left_join(voom_cpm_tidy, gene_annot, by='ensembl_gene_id')\n",
    "voom_cpm_tidy <- dplyr::select(voom_cpm_tidy, ensembl_gene_id, external_gene_name, colnames(meta), everything())\n",
    "filename <- paste0('cpm_voom_tidy_',species, '.csv')\n",
    "voom_cpm_save_file <- file.path(save_dir, 'tidy_abundance_tables', filename)\n",
    "write.csv(voom_cpm_tidy, voom_cpm_save_file, row.names=FALSE)"
   ]
  },
  {
   "cell_type": "code",
   "execution_count": 52,
   "metadata": {},
   "outputs": [],
   "source": [
    "## Get tidy raw counts`"
   ]
  },
  {
   "cell_type": "code",
   "execution_count": 53,
   "metadata": {},
   "outputs": [],
   "source": [
    "counts2 <- rownames_to_column(counts, var='ensembl_gene_id')\n",
    "genes <- gene_annot['ensembl_gene_id']\n",
    "counts2 <- dplyr::filter(counts2, ensembl_gene_id %in% gene_annot$ensembl_gene_id)\n",
    "counts.tidy <- pivot_longer(counts2, -ensembl_gene_id, names_to='Sample', values_to='Counts')\n",
    "counts.tidy <- left_join(counts.tidy, meta, by='Sample')\n",
    "counts.tidy <- left_join(counts.tidy, gene_annot, by='ensembl_gene_id')\n",
    "counts.tidy <- dplyr::select(counts.tidy, ensembl_gene_id, external_gene_name, colnames(meta), everything())"
   ]
  },
  {
   "cell_type": "code",
   "execution_count": 54,
   "metadata": {},
   "outputs": [],
   "source": [
    "filename <- paste0('Unfiltered_counts_tidy_', species, '.csv')\n",
    "counts_save_file <- file.path(save_dir, 'tidy_abundance_tables', filename)\n",
    "write.csv(counts.tidy, counts_save_file, row.names=FALSE)"
   ]
  },
  {
   "cell_type": "code",
   "execution_count": 55,
   "metadata": {},
   "outputs": [],
   "source": [
    "## Merge "
   ]
  },
  {
   "cell_type": "code",
   "execution_count": 56,
   "metadata": {},
   "outputs": [],
   "source": [
    "TPM_counts_tidy <- left_join(TPM.tidy, counts.tidy, by=append(c('ensembl_gene_id', 'external_gene_name'),colnames(meta)))"
   ]
  },
  {
   "cell_type": "code",
   "execution_count": 57,
   "metadata": {},
   "outputs": [],
   "source": [
    "TPM_cpm_tidy <- left_join(TPM.tidy, voom_cpm_tidy, by=append(c('ensembl_gene_id', 'external_gene_name'),colnames(meta)))"
   ]
  },
  {
   "cell_type": "code",
   "execution_count": 58,
   "metadata": {},
   "outputs": [],
   "source": [
    "TPM_counts_cpm <- left_join(TPM_cpm_tidy, counts.tidy, by=append(c('ensembl_gene_id', 'external_gene_name'),colnames(meta)))\n",
    "TPM_counts_cpm <- dplyr::select(TPM_counts_cpm, ensembl_gene_id, external_gene_name, colnames(meta), everything())"
   ]
  },
  {
   "cell_type": "code",
   "execution_count": 59,
   "metadata": {},
   "outputs": [],
   "source": [
    "filename <- paste0('TPM_CPM_counts_', species, '.csv')\n",
    "tpm_cpm_cts_save_file <- file.path(save_dir, 'tidy_abundance_tables', filename)\n",
    "write.csv(TPM_counts_cpm, tpm_cpm_cts_save_file, row.names=FALSE)"
   ]
  },
  {
   "cell_type": "code",
   "execution_count": null,
   "metadata": {},
   "outputs": [],
   "source": []
  }
 ],
 "metadata": {
  "kernelspec": {
   "display_name": "R",
   "language": "R",
   "name": "ir"
  },
  "language_info": {
   "codemirror_mode": "r",
   "file_extension": ".r",
   "mimetype": "text/x-r-source",
   "name": "R",
   "pygments_lexer": "r",
   "version": "4.1.1"
  }
 },
 "nbformat": 4,
 "nbformat_minor": 4
}
